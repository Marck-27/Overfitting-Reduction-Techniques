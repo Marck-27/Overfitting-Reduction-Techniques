{
 "cells": [
  {
   "cell_type": "markdown",
   "source": [
    "# Proyecto: Clasificación múltiple usando Redes Neuronales y etiquetas sin codificar\n",
    "\n",
    "## En el presente proyecto se muestra un problema de clasificación múltiple con redes neuronales donde la capa de salida tiene múltiples neuronas.\n",
    "\n",
    "## La función de activación en la capa de salida es del tipo `activation = softmax` \n",
    "\n",
    "## Dado que NO codificamos las etiquetas usaremos la función de costo `loss = sparse_categorical_crossentropy`\n",
    "\n",
    "## Usaremos técnicas para reducir \"overfitting\" mediante:\n",
    "\n",
    "## * Regularización (con normas $L_{1}$ y $L_{2}$)\n",
    "\n",
    "## * DropOut (reducción del porcentaje de neuronas a activar en cada capa)\n",
    "\n",
    "## Trabajaremos con el dataset \"reuters\" de Keras que corresponde a reseñas (comentarios) que son de 46 Clases distintas (clasificación múltiple)"
   ],
   "metadata": {}
  },
  {
   "cell_type": "code",
   "execution_count": null,
   "source": [
    "import numpy as np\n",
    "\n",
    "# importamos funciones para construir redes neuronales:\n",
    "from tensorflow.keras import layers, models, optimizers, regularizers\n",
    "\n",
    "from keras.datasets import reuters\n",
    "\n",
    "# Librería para separar datos:\n",
    "from sklearn.model_selection import train_test_split\n",
    "\n",
    "# función para codificar variables\n",
    "from tensorflow.keras.utils import to_categorical\n",
    "\n",
    "import matplotlib.pyplot as plt\n"
   ],
   "outputs": [],
   "metadata": {}
  },
  {
   "cell_type": "code",
   "execution_count": null,
   "source": [
    "# Cargamos datos:\n",
    "\n",
    "# Maximo numero de palabras en cada mensaje\n",
    "N = 10000\n",
    "\n",
    "(features_train , labels_train),(features_test , labels_test) = reuters.load_data(num_words=N)\n",
    "\n",
    "# Diccionario {'palabra':numero} correspondiente al dataset 'reuters'\n",
    "dict_word_index = reuters.get_word_index()\n",
    "\n",
    "# Los 'features' son arreglos cuyos elementos son listas de la forma:\n",
    "# feature[i] = [n0,n1,...,nk] donde cada número 'ni' corresponde a una palabla\n",
    "# cuyo valor se decodifica con el diccionario 'dict_word_index'.\n",
    "# Así que cada lista 'feature[i]' representa un comentario.\n",
    "#  \n",
    "# El valor de cada 'label' es un número entero entre 0 y 45, que representa alguna de las\n",
    "# 46 clasificaciones que puede tomar el 'feature' (comentario) correspondiente."
   ],
   "outputs": [],
   "metadata": {}
  },
  {
   "cell_type": "markdown",
   "source": [
    "## Exploramos los datos:"
   ],
   "metadata": {}
  },
  {
   "cell_type": "code",
   "execution_count": 3,
   "source": [
    "# Exploramos datos:\n",
    "\n",
    "print('El dataset \"features_train\" es de tamaño:' , features_train.shape)\n",
    "print('El dataset \"features_test\" es de tamaño:' , features_test.shape)\n",
    "print('Cada elemento de \"features\" es de tipo:' , type(features_train[0]))\n",
    "\n",
    "print('\\nEl dataset \"labels_train\" es de tamaño:' , labels_train.shape)\n",
    "print('El dataset \"labels_test\" es de tamaño:' , labels_test.shape)\n",
    "print('Cada elemento de \"labels\" es de tipo:' , type(labels_train[0]))"
   ],
   "outputs": [
    {
     "output_type": "stream",
     "name": "stdout",
     "text": [
      "El dataset \"features_train\" es de tamaño: (8982,)\n",
      "El dataset \"features_test\" es de tamaño: (2246,)\n",
      "Cada elemento de \"features\" es de tipo: <class 'list'>\n",
      "\n",
      "El dataset \"labels_train\" es de tamaño: (8982,)\n",
      "El dataset \"labels_test\" es de tamaño: (2246,)\n",
      "Cada elemento de \"labels\" es de tipo: <class 'numpy.int64'>\n"
     ]
    }
   ],
   "metadata": {}
  },
  {
   "cell_type": "markdown",
   "source": [
    "### De la información anterior podemos saber que cada \"feature\" es una lista (correspondiente a la codificación numérica de un mensaje)\n",
    "### cada \"label\" es un numero entero del tipo: `numpy.int64`"
   ],
   "metadata": {}
  },
  {
   "cell_type": "code",
   "execution_count": 4,
   "source": [
    "# Si queremos ver el contenido de un mensaje debemos decodificarlo con el diccionario 'get_word_index()'\n",
    "# como se mestra a continuación:\n",
    "\n",
    "# seleccionmos un mensaje (k < 8982)\n",
    "k = 15\n",
    "\n",
    "numeric_message = features_train[k] # <--- k-esimo mensaje codificado con números\n",
    "\n",
    "# Cambiamos el diccionario a la forma {numero:'palabra'}:\n",
    "dict_index_word = dict( [ (value,key) for key,value in dict_word_index.items() ] )\n",
    "\n",
    "# Decodificamos el k-esimo mensaje:\n",
    "#for n in numeric_message:\n",
    "#    # decodificamos el contenido usando el diccionario 'word_index':\n",
    "#    print( dict_index_word.get(n-3) )"
   ],
   "outputs": [],
   "metadata": {}
  },
  {
   "cell_type": "code",
   "execution_count": 5,
   "source": [
    "# Extraemos las clases totales de las etiquetas del dataset:\n",
    "clases = np.unique(labels_train)\n",
    "n_clases = len(clases)\n",
    "\n",
    "print('Hay',n_clases,'clases posibles para las etiquetas')\n",
    "print('Clases:\\n',clases)"
   ],
   "outputs": [
    {
     "output_type": "stream",
     "name": "stdout",
     "text": [
      "Hay 46 clases posibles para las etiquetas\n",
      "Clases:\n",
      " [ 0  1  2  3  4  5  6  7  8  9 10 11 12 13 14 15 16 17 18 19 20 21 22 23\n",
      " 24 25 26 27 28 29 30 31 32 33 34 35 36 37 38 39 40 41 42 43 44 45]\n"
     ]
    }
   ],
   "metadata": {}
  },
  {
   "cell_type": "markdown",
   "source": [
    "## Codificamos features y labels para entrenar la red:"
   ],
   "metadata": {}
  },
  {
   "cell_type": "code",
   "execution_count": 6,
   "source": [
    "# A continuación creamos una funcón para codificar \n",
    "# los features como arreglos con entradas son binarias \n",
    "\n",
    "# Por ejemplo, \n",
    "# si 'feature' = [0,2,4] enconces,\n",
    "# 'enoded_feature' = [1,0,1,0,1,0,0,0,0,...,0]\n",
    "# 'enoded_feature' tiene '1' solamente en los índices dados en 'feature'\n",
    "\n",
    "# Función que codifica los features con entradas binarias:\n",
    "def features_encoder(features, dim=N):\n",
    "    n_sentense = len(features)\n",
    "\n",
    "    # Inicializamos arreglo con ceros:\n",
    "    binary_features = np.zeros( (n_sentense, dim) )\n",
    "    \n",
    "    for i in range(n_sentense):\n",
    "        for j in features[i]:\n",
    "            # Vamos poniendo unos en los indices que indica 'features[i]'\n",
    "            binary_features[i,j]=1\n",
    "                \n",
    "    return binary_features"
   ],
   "outputs": [],
   "metadata": {}
  },
  {
   "cell_type": "code",
   "execution_count": 7,
   "source": [
    "# Aplicamos nuestra función para codificar los features:\n",
    "x_train = features_encoder(features_train,dim=N)\n",
    "x_test = features_encoder(features_test,dim=N)"
   ],
   "outputs": [],
   "metadata": {}
  },
  {
   "cell_type": "code",
   "execution_count": 8,
   "source": [
    "# No codificaremos los labels, pues minimizaremos con 'sparse_categorical_crossentropy'\n",
    "\n",
    "y_train = labels_train\n",
    "y_test = labels_test"
   ],
   "outputs": [],
   "metadata": {}
  },
  {
   "cell_type": "code",
   "execution_count": 9,
   "source": [
    "# Particionamos el conjunto de entrenamiento original \n",
    "# en nuevos subconjuntos de entrenamiento y validación:\n",
    "\n",
    "p_train=0.75  # porcentaje para datos de entrenamiento\n",
    "p_validation=0.25 # porcentaje  para datos de validación\n",
    "\n",
    "x_train_part, x_validation, y_train_part, y_validation = train_test_split (x_train, y_train, train_size=p_train, test_size=p_validation, random_state=42)\n",
    "\n",
    "print('Hay',len(x_train_part),'datos para entrenamiento y',len(x_validation),'datos para validación')"
   ],
   "outputs": [
    {
     "output_type": "stream",
     "name": "stdout",
     "text": [
      "Hay 6736 datos para entrenamiento y 2246 datos para validación\n"
     ]
    }
   ],
   "metadata": {}
  },
  {
   "cell_type": "code",
   "execution_count": 10,
   "source": [
    "# dimensión de los features para entrenar la red:\n",
    "dim_feature = x_train_part[0].shape\n",
    "dim_feature"
   ],
   "outputs": [
    {
     "output_type": "execute_result",
     "data": {
      "text/plain": [
       "(10000,)"
      ]
     },
     "metadata": {},
     "execution_count": 10
    }
   ],
   "metadata": {}
  },
  {
   "cell_type": "markdown",
   "source": [
    "## Creamos la arquitectura de la Red Neuronal:"
   ],
   "metadata": {}
  },
  {
   "cell_type": "code",
   "execution_count": 11,
   "source": [
    "# Creamos red neuronal:\n",
    "\n",
    "# ================= Parámetros que controlan la convergencia de la red =====================\n",
    "\n",
    "n_epochs = 20 # <-- iteraciones de forward y backward propagations\n",
    "n_batch_size = 200\n",
    "\n",
    "nn1 = 70 # <-- numero de neuronas para la capa 1\n",
    "nn2 = 100  # <-- numero de neuronas de la capa 2\n",
    "nn_out = n_clases  # <-- numero de neuronas de la capa de salida\n",
    "\n",
    "p_active = 0.5 #<-- porcentaje de neuronas a activar aleatoriamente en las capas con dropout\n",
    "\n",
    "alfa_l1 = 0.01 # <-- multiplo del regularizador l1\n",
    "alfa_l2 = 0.01 # <-- multiplo del regularizador l2\n",
    "# kernel_regularizer=regularizers.l1_l2(alfa_l1, alfa_l2)\n",
    "\n",
    "# learning rate para el optimizador:\n",
    "lr=0.001\n",
    "\n",
    "# ===========================================================================================\n",
    "\n",
    "# INICIALIZAMOS RED\n",
    "model = models.Sequential() # <-- se inicializa la red\n",
    "\n",
    "# Se van agregando las capas con sus parámetros:\n",
    "model.add( layers.Dense(nn1 ,activation='relu', input_shape =dim_feature ) )# <-- capa 1 (Recibe features)\n",
    "#model.add( layers.Dropout(p_active) ) # hacemos \"dropout\" a la capa anterior\n",
    "model.add( layers.Dense(nn2, activation='relu' , kernel_regularizer=regularizers.l1_l2(alfa_l1, alfa_l2) ) ) # <-- capa 2\n",
    "model.add( layers.Dropout(p_active) ) # hacemos \"dropout\" a la capa anterior\n",
    "model.add( layers.Dense(nn_out, activation='softmax') )#<-- capa de salida (Arroja labels predichos)"
   ],
   "outputs": [],
   "metadata": {}
  },
  {
   "cell_type": "code",
   "execution_count": null,
   "source": [
    "# visualzamos la arquitecura de la red:\n",
    "model.summary()"
   ],
   "outputs": [],
   "metadata": {}
  },
  {
   "cell_type": "code",
   "execution_count": 12,
   "source": [
    "# compilamos la red:\n",
    "\n",
    "# optimizador:\n",
    "optim_meth = optimizers.Nadam(learning_rate=lr)\n",
    "\n",
    "model.compile(\n",
    "    optimizer= optim_meth, # <--- Elegimos el método de optmimización,\n",
    "    loss='sparse_categorical_crossentropy',# <-- función de costo recomendada para clasificación no binaria\n",
    "    metrics='accuracy'\n",
    "    )\n",
    "\n",
    "# Obs:\n",
    "# Usamos la función de costo: loss='categorical_crossentropy' \n",
    "# cuando las etiquetas SÍ están codificadas en arreglos \n",
    "\n",
    "# Usamos la función de costo: loss='sparse_categorical_crossentropy' \n",
    "# cuando las etiquetas NO están codificadas en arreglos "
   ],
   "outputs": [],
   "metadata": {}
  },
  {
   "cell_type": "code",
   "execution_count": 13,
   "source": [
    "# Entrenemos el modelo y los resultados los guardamos en 'history':\n",
    "results = model.fit(\n",
    "    x_train_part, \n",
    "    y_train_part,\n",
    "    epochs=n_epochs,\n",
    "    batch_size=n_batch_size,\n",
    "    validation_data=(x_validation , y_validation) # <-- agregamos datos para validación\n",
    "    )"
   ],
   "outputs": [
    {
     "output_type": "stream",
     "name": "stdout",
     "text": [
      "Epoch 1/20\n",
      "34/34 [==============================] - 1s 22ms/step - loss: 9.1265 - accuracy: 0.4232 - val_loss: 7.0613 - val_accuracy: 0.6091\n",
      "Epoch 2/20\n",
      "34/34 [==============================] - 1s 16ms/step - loss: 6.0009 - accuracy: 0.6260 - val_loss: 4.9133 - val_accuracy: 0.6901\n",
      "Epoch 3/20\n",
      "34/34 [==============================] - 1s 16ms/step - loss: 4.1672 - accuracy: 0.6957 - val_loss: 3.5078 - val_accuracy: 0.7084\n",
      "Epoch 4/20\n",
      "34/34 [==============================] - 1s 17ms/step - loss: 2.9597 - accuracy: 0.7273 - val_loss: 2.5885 - val_accuracy: 0.7128\n",
      "Epoch 5/20\n",
      "34/34 [==============================] - 1s 18ms/step - loss: 2.2124 - accuracy: 0.7338 - val_loss: 2.0612 - val_accuracy: 0.7150\n",
      "Epoch 6/20\n",
      "34/34 [==============================] - 1s 21ms/step - loss: 1.7998 - accuracy: 0.7438 - val_loss: 1.8080 - val_accuracy: 0.7106\n",
      "Epoch 7/20\n",
      "34/34 [==============================] - 1s 16ms/step - loss: 1.6068 - accuracy: 0.7485 - val_loss: 1.6803 - val_accuracy: 0.7133\n",
      "Epoch 8/20\n",
      "34/34 [==============================] - 1s 15ms/step - loss: 1.4795 - accuracy: 0.7660 - val_loss: 1.6204 - val_accuracy: 0.7186\n",
      "Epoch 9/20\n",
      "34/34 [==============================] - 1s 15ms/step - loss: 1.3986 - accuracy: 0.7743 - val_loss: 1.5571 - val_accuracy: 0.7248\n",
      "Epoch 10/20\n",
      "34/34 [==============================] - 1s 16ms/step - loss: 1.3214 - accuracy: 0.7844 - val_loss: 1.5705 - val_accuracy: 0.7146\n",
      "Epoch 11/20\n",
      "34/34 [==============================] - 1s 15ms/step - loss: 1.2558 - accuracy: 0.7988 - val_loss: 1.4778 - val_accuracy: 0.7529\n",
      "Epoch 12/20\n",
      "34/34 [==============================] - 1s 16ms/step - loss: 1.2030 - accuracy: 0.8073 - val_loss: 1.4323 - val_accuracy: 0.7587\n",
      "Epoch 13/20\n",
      "34/34 [==============================] - 1s 15ms/step - loss: 1.1362 - accuracy: 0.8216 - val_loss: 1.3958 - val_accuracy: 0.7565\n",
      "Epoch 14/20\n",
      "34/34 [==============================] - 1s 16ms/step - loss: 1.0949 - accuracy: 0.8219 - val_loss: 1.3777 - val_accuracy: 0.7663\n",
      "Epoch 15/20\n",
      "34/34 [==============================] - 1s 15ms/step - loss: 1.0452 - accuracy: 0.8305 - val_loss: 1.3576 - val_accuracy: 0.7836\n",
      "Epoch 16/20\n",
      "34/34 [==============================] - 1s 16ms/step - loss: 0.9992 - accuracy: 0.8398 - val_loss: 1.3298 - val_accuracy: 0.7760\n",
      "Epoch 17/20\n",
      "34/34 [==============================] - 1s 15ms/step - loss: 0.9606 - accuracy: 0.8477 - val_loss: 1.3273 - val_accuracy: 0.7752\n",
      "Epoch 18/20\n",
      "34/34 [==============================] - 1s 16ms/step - loss: 0.9369 - accuracy: 0.8533 - val_loss: 1.3014 - val_accuracy: 0.7805\n",
      "Epoch 19/20\n",
      "34/34 [==============================] - 1s 16ms/step - loss: 0.8911 - accuracy: 0.8575 - val_loss: 1.2886 - val_accuracy: 0.7890\n",
      "Epoch 20/20\n",
      "34/34 [==============================] - 1s 15ms/step - loss: 0.8673 - accuracy: 0.8671 - val_loss: 1.2768 - val_accuracy: 0.8005\n"
     ]
    }
   ],
   "metadata": {}
  },
  {
   "cell_type": "code",
   "execution_count": 14,
   "source": [
    "# visualizamos resultados:\n",
    "\n",
    "history_dict = results.history  # <-- extrae en 'accuracy' y 'loss' de cada 'epoch'\n",
    "# history_dict = {'loss':[...], 'accuracy':[...], 'val_loss':[...], 'val_accuracy':[...] }\n",
    "\n",
    "loss_values = history_dict['loss']# <-- valores del 'loss'\n",
    "val_loss_values = history_dict['val_loss'] #<-- valores del 'loss' (para datos de validacion)\n",
    "accuracy_values = history_dict['accuracy']# <-- valores del 'loss'\n",
    "val_accuracy_values = history_dict['val_accuracy'] #<-- valores del 'loss' (para datos de validacion)\n",
    "\n",
    "# numeramos 'epochs' contando desde 1:\n",
    "epoch = range(1,len(loss_values)+1)\n",
    "\n",
    "# Normalizamos 'loss':\n",
    "#loss_values = loss_values/np.max(loss_values)\n",
    "#val_loss_values = val_loss_values/np.max(val_loss_values)\n",
    "\n",
    "plt.figure()\n",
    "plt.plot(epoch, loss_values, '--', label='Loss with training data')\n",
    "plt.plot(epoch, val_loss_values, '--', label='Loss with validation data')\n",
    "plt.plot(epoch, accuracy_values, 'o', label='accuracy with training data')\n",
    "plt.plot(epoch, val_accuracy_values, 'o', label='accuracy with validation data')\n",
    "plt.legend()\n",
    "plt.title('Results RNA 1')\n",
    "plt.xlabel('epoch')\n",
    "plt.show()"
   ],
   "outputs": [
    {
     "output_type": "display_data",
     "data": {
      "text/plain": [
       "<Figure size 432x288 with 1 Axes>"
      ],
      "image/png": "[encoded data removed]"
     },
     "metadata": {
      "needs_background": "light"
     }
    }
   ],
   "metadata": {}
  },
  {
   "cell_type": "markdown",
   "source": [
    "## Obtenemos valores de error y precisión usando los datos de prueba (desconocidos por la red):"
   ],
   "metadata": {}
  },
  {
   "cell_type": "code",
   "execution_count": 15,
   "source": [
    "# medimos precisión del entrenamiento con los datos de prueba:\n",
    "model.evaluate(x_test,y_test)"
   ],
   "outputs": [
    {
     "output_type": "stream",
     "name": "stdout",
     "text": [
      "71/71 [==============================] - 0s 2ms/step - loss: 1.3282 - accuracy: 0.7685\n"
     ]
    },
    {
     "output_type": "execute_result",
     "data": {
      "text/plain": [
       "[1.3281700611114502, 0.7684773206710815]"
      ]
     },
     "metadata": {},
     "execution_count": 15
    }
   ],
   "metadata": {}
  },
  {
   "cell_type": "markdown",
   "source": [
    "## Hacemos predicciones con el modelo entrenado:"
   ],
   "metadata": {}
  },
  {
   "cell_type": "code",
   "execution_count": 16,
   "source": [
    "# Predecimos las etiquetas de todos los features de prueba: \n",
    "y_predict = model.predict(x_test)\n",
    "\n",
    "y_predict.shape"
   ],
   "outputs": [
    {
     "output_type": "execute_result",
     "data": {
      "text/plain": [
       "(2246, 46)"
      ]
     },
     "metadata": {},
     "execution_count": 16
    }
   ],
   "metadata": {}
  },
  {
   "cell_type": "code",
   "execution_count": 17,
   "source": [
    "# Predecimos una etiqueta en particular:\n",
    "\n",
    "i = 1571 #<--- indice del valor a predecir (< 2246)\n",
    "\n",
    "label_obs  = labels_test[i] #np.argmax(y_test[i])\n",
    "label_aprx = np.argmax(y_predict[i])\n",
    "\n",
    "print('    Etiqueta real: ', label_obs )\n",
    "print('Etiqueta predicha: ', label_aprx )"
   ],
   "outputs": [
    {
     "output_type": "stream",
     "name": "stdout",
     "text": [
      "    Etiqueta real:  4\n",
      "Etiqueta predicha:  4\n"
     ]
    }
   ],
   "metadata": {}
  },
  {
   "cell_type": "code",
   "execution_count": null,
   "source": [],
   "outputs": [],
   "metadata": {}
  }
 ],
 "metadata": {
  "orig_nbformat": 4,
  "language_info": {
   "name": "python",
   "version": "3.8.10",
   "mimetype": "text/x-python",
   "codemirror_mode": {
    "name": "ipython",
    "version": 3
   },
   "pygments_lexer": "ipython3",
   "nbconvert_exporter": "python",
   "file_extension": ".py"
  },
  "kernelspec": {
   "name": "python3",
   "display_name": "Python 3.8.10 64-bit"
  },
  "interpreter": {
   "hash": "31f2aee4e71d21fbe5cf8b01ff0e069b9275f58929596ceb00d14d90e3e16cd6"
  }
 },
 "nbformat": 4,
 "nbformat_minor": 2
}