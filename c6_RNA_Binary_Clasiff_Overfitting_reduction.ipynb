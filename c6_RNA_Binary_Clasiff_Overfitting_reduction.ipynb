{
 "cells": [
  {
   "cell_type": "markdown",
   "source": [
    "# Proyecto: Técnicas para prevenir error de \"Overfitting\"\n",
    "\n",
    "\n",
    "## En el presente proyecto se muestra un problema de clasificación binaria con redes neuronales donde la capa de salida tiene una sola neurona,\n",
    "\n",
    "## por lo que la función de activación en la capa de salida es del tipo `activation = sigmoid` y la función de costo es del tipo `loss = binary_crossentropy`\n",
    "\n",
    "## Haremos \"Overfitting\" intencionalmente, posteriormente revisaremos técnicas para eliminarlo mediante:\n",
    "\n",
    "## * Regularización (con normas $L_{1}$ y $L_{2}$)\n",
    "\n",
    "## * DropOut (reducción del porcentaje de neuronas a activar en cada capa)\n",
    "\n",
    "## Trabajaremos con el dataset \"imdb\" de Keras que corresponde a reseñas (comentarios) que son de 2 clases distintas: buenos ó malos (clasificación binaria)"
   ],
   "metadata": {}
  },
  {
   "cell_type": "code",
   "execution_count": 1,
   "source": [
    "import numpy as np\n",
    "\n",
    "# importamos funciones para construir redes neuronales:\n",
    "from tensorflow.keras import layers, models, optimizers, regularizers\n",
    "\n",
    "# importamos dataset:\n",
    "from keras.datasets import imdb\n",
    "\n",
    "# Librería para separar datos:\n",
    "from sklearn.model_selection import train_test_split\n",
    "\n",
    "# función para codificar variables\n",
    "from tensorflow.keras.utils import to_categorical\n",
    "\n",
    "import matplotlib.pyplot as plt\n"
   ],
   "outputs": [],
   "metadata": {}
  },
  {
   "cell_type": "code",
   "execution_count": 2,
   "source": [
    "# Cargamos datos:\n",
    "\n",
    "# Maximo numero de palabras en cada mensaje\n",
    "N = 10000\n",
    "\n",
    "(features_train , labels_train),(features_test , labels_test) = imdb.load_data(num_words=N)\n",
    "\n",
    "# Diccionario {'palabra':numero} correspondiente al dataset 'reuters'\n",
    "dict_word_index = imdb.get_word_index()\n",
    "\n",
    "# Los 'features' son arreglos cuyos elementos son listas de la forma:\n",
    "# feature[i] = [n0,n1,...,nk] donde cada número 'ni' corresponde a una palabla\n",
    "# cuyo valor se decodifica con el diccionario 'dict_word_index'.\n",
    "# Así que cada lista 'feature[i]' representa un comentario.\n",
    "#  \n",
    "# El valor de cada 'label' es un número entero entre 0 y 45, que representa alguna de las\n",
    "# 46 clasificaciones que puede tomar el 'feature' (comentario) correspondiente."
   ],
   "outputs": [
    {
     "output_type": "stream",
     "name": "stderr",
     "text": [
      "<__array_function__ internals>:5: VisibleDeprecationWarning: Creating an ndarray from ragged nested sequences (which is a list-or-tuple of lists-or-tuples-or ndarrays with different lengths or shapes) is deprecated. If you meant to do this, you must specify 'dtype=object' when creating the ndarray\n",
      "/home/marck/.local/lib/python3.8/site-packages/keras/datasets/imdb.py:155: VisibleDeprecationWarning: Creating an ndarray from ragged nested sequences (which is a list-or-tuple of lists-or-tuples-or ndarrays with different lengths or shapes) is deprecated. If you meant to do this, you must specify 'dtype=object' when creating the ndarray\n",
      "  x_train, y_train = np.array(xs[:idx]), np.array(labels[:idx])\n",
      "/home/marck/.local/lib/python3.8/site-packages/keras/datasets/imdb.py:156: VisibleDeprecationWarning: Creating an ndarray from ragged nested sequences (which is a list-or-tuple of lists-or-tuples-or ndarrays with different lengths or shapes) is deprecated. If you meant to do this, you must specify 'dtype=object' when creating the ndarray\n",
      "  x_test, y_test = np.array(xs[idx:]), np.array(labels[idx:])\n"
     ]
    }
   ],
   "metadata": {}
  },
  {
   "cell_type": "markdown",
   "source": [
    "## Exploramos los datos:"
   ],
   "metadata": {}
  },
  {
   "cell_type": "code",
   "execution_count": 3,
   "source": [
    "# Exploramos datos:\n",
    "\n",
    "print('El dataset \"features_train\" es de tamaño:' , features_train.shape)\n",
    "print('El dataset \"features_test\" es de tamaño:' , features_test.shape)\n",
    "print('Cada elemento de \"features\" es de tipo:' , type(features_train[0]))\n",
    "\n",
    "print('\\nEl dataset \"labels_train\" es de tamaño:' , labels_train.shape)\n",
    "print('El dataset \"labels_test\" es de tamaño:' , labels_test.shape)\n",
    "print('Cada elemento de \"labels\" es de tipo:' , type(labels_train[0]))"
   ],
   "outputs": [
    {
     "output_type": "stream",
     "name": "stdout",
     "text": [
      "El dataset \"features_train\" es de tamaño: (25000,)\n",
      "El dataset \"features_test\" es de tamaño: (25000,)\n",
      "Cada elemento de \"features\" es de tipo: <class 'list'>\n",
      "\n",
      "El dataset \"labels_train\" es de tamaño: (25000,)\n",
      "El dataset \"labels_test\" es de tamaño: (25000,)\n",
      "Cada elemento de \"labels\" es de tipo: <class 'numpy.int64'>\n"
     ]
    }
   ],
   "metadata": {}
  },
  {
   "cell_type": "markdown",
   "source": [
    "### De la información anterior podemos saber que cada \"feature\" es una lista (correspondiente a la codificación numérica de un mensaje)\n",
    "### cada \"label\" es un numero entero del tipo: `numpy.int64`"
   ],
   "metadata": {}
  },
  {
   "cell_type": "code",
   "execution_count": 4,
   "source": [
    "# Si queremos ver el contenido de un mensaje debemos decodificarlo con el diccionario 'get_word_index()'\n",
    "# como se mestra a continuación:\n",
    "\n",
    "# seleccionmos un mensaje (k < 25000)\n",
    "k = 15\n",
    "\n",
    "numeric_message = features_train[k] # <--- k-esimo mensaje codificado con números\n",
    "\n",
    "# Cambiamos el diccionario a la forma {numero:'palabra'}:\n",
    "dict_index_word = dict( [ (value,key) for key,value in dict_word_index.items() ] )\n",
    "\n",
    "# Decodificamos el k-esimo mensaje:\n",
    "#for n in numeric_message:\n",
    "#    # decodificamos el contenido usando el diccionario 'word_index':\n",
    "#    print( dict_index_word.get(n-3) )"
   ],
   "outputs": [],
   "metadata": {}
  },
  {
   "cell_type": "code",
   "execution_count": 5,
   "source": [
    "# Extraemos las clases totales de las etiquetas del dataset:\n",
    "clases = np.unique(labels_train)\n",
    "n_clases = len(clases)\n",
    "\n",
    "print('Hay',n_clases,'clases posibles para las etiquetas')\n",
    "print('Clases:\\n',clases)"
   ],
   "outputs": [
    {
     "output_type": "stream",
     "name": "stdout",
     "text": [
      "Hay 2 clases posibles para las etiquetas\n",
      "Clases:\n",
      " [0 1]\n"
     ]
    }
   ],
   "metadata": {}
  },
  {
   "cell_type": "markdown",
   "source": [
    "## Codificamos features y labels para entrenar la red:"
   ],
   "metadata": {}
  },
  {
   "cell_type": "code",
   "execution_count": 6,
   "source": [
    "# A continuación creamos una funcón para codificar \n",
    "# los features como arreglos con entradas son binarias \n",
    "\n",
    "# Por ejemplo, \n",
    "# si 'feature' = [0,2,4] enconces,\n",
    "# 'enoded_feature' = [1,0,1,0,1,0,0,0,0,...,0]\n",
    "# 'enoded_feature' tiene '1' solamente en los índices dados en 'feature'\n",
    "\n",
    "# Función que codifica los features con entradas binarias:\n",
    "def features_encoder(features, dim=N):\n",
    "    n_sentense = len(features)\n",
    "\n",
    "    # Inicializamos arreglo con ceros:\n",
    "    binary_features = np.zeros( (n_sentense, dim) )\n",
    "    \n",
    "    for i in range(n_sentense):\n",
    "        for j in features[i]:\n",
    "            # Vamos poniendo unos en los indices que indica 'features[i]'\n",
    "            binary_features[i,j]=1\n",
    "                \n",
    "    return binary_features"
   ],
   "outputs": [],
   "metadata": {}
  },
  {
   "cell_type": "code",
   "execution_count": 7,
   "source": [
    "# Aplicamos nuestra función para codificar los features:\n",
    "x_train = features_encoder(features_train,dim=N)\n",
    "x_test = features_encoder(features_test,dim=N)"
   ],
   "outputs": [],
   "metadata": {}
  },
  {
   "cell_type": "code",
   "execution_count": 8,
   "source": [
    "# No codificaremos los labels, pues minimizaremos con 'binary_crossentropy'\n",
    "# sin embargo pasaremos los valores al tipo array con valores 'float32'\n",
    "y_train = np.asarray(labels_train).astype('float32')\n",
    "y_test = np.asarray(labels_test).astype('float32')"
   ],
   "outputs": [],
   "metadata": {}
  },
  {
   "cell_type": "code",
   "execution_count": 9,
   "source": [
    "# Particionamos el conjunto de entrenamiento original \n",
    "# en nuevos subconjuntos de entrenamiento y validación:\n",
    "\n",
    "# Para provocar overfitting intencionalmentes generamos más datos de validación que de entrenamiento\n",
    "p_train=0.4  # porcentaje para datos de entrenamiento\n",
    "p_validation=0.6 # porcentaje  para datos de validación\n",
    "\n",
    "x_train_part, x_validation, y_train_part, y_validation = train_test_split (x_train, y_train, train_size=p_train, test_size=p_validation, random_state=42)\n",
    "\n",
    "print('Hay',len(x_train_part),'datos para entrenamiento y',len(x_validation),'datos para validación')"
   ],
   "outputs": [
    {
     "output_type": "stream",
     "name": "stdout",
     "text": [
      "Hay 10000 datos para entrenamiento y 15000 datos para validación\n"
     ]
    }
   ],
   "metadata": {}
  },
  {
   "cell_type": "code",
   "execution_count": 10,
   "source": [
    "# dimensión de los features para entrenar la red:\n",
    "dim_feature = x_train_part[0].shape\n",
    "dim_feature"
   ],
   "outputs": [
    {
     "output_type": "execute_result",
     "data": {
      "text/plain": [
       "(10000,)"
      ]
     },
     "metadata": {},
     "execution_count": 10
    }
   ],
   "metadata": {}
  },
  {
   "cell_type": "markdown",
   "source": [
    "# Pruebas con red neuronal 1: Red compleja (muchas conexiones)"
   ],
   "metadata": {}
  },
  {
   "cell_type": "code",
   "execution_count": 11,
   "source": [
    "# Creamos red neuronal 1:\n",
    "\n",
    "nn1 = 16 # <-- numero de neuronas para la capa 1\n",
    "nn2 = 16  # <-- numero de neuronas de la capa 2\n",
    "nn3 = 1  # <-- numero de neuronas de la capa 3\n",
    "\n",
    "n_epochs = 20\n",
    "n_batch_size = 512\n",
    "\n",
    "# INICIALIZAMOS RED\n",
    "model1 = models.Sequential() # <-- se inicializa la red\n",
    "\n",
    "# Se van agregando las capas con sus parámetros:\n",
    "model1.add( layers.Dense(nn1 ,activation='relu', input_shape =dim_feature) )# <-- capa 1 (Recibe features)\n",
    "model1.add( layers.Dense(nn2, activation='relu') ) # <-- capa 2\n",
    "model1.add( layers.Dense(nn3, activation='sigmoid') )#<-- capa de salida (Arroja labels predichos)"
   ],
   "outputs": [],
   "metadata": {}
  },
  {
   "cell_type": "code",
   "execution_count": 12,
   "source": [
    "# visualzamos la arquitecura de la red:\n",
    "model1.summary()"
   ],
   "outputs": [
    {
     "output_type": "stream",
     "name": "stdout",
     "text": [
      "Model: \"sequential\"\n",
      "_________________________________________________________________\n",
      "Layer (type)                 Output Shape              Param #   \n",
      "=================================================================\n",
      "dense (Dense)                (None, 16)                160016    \n",
      "_________________________________________________________________\n",
      "dense_1 (Dense)              (None, 16)                272       \n",
      "_________________________________________________________________\n",
      "dense_2 (Dense)              (None, 1)                 17        \n",
      "=================================================================\n",
      "Total params: 160,305\n",
      "Trainable params: 160,305\n",
      "Non-trainable params: 0\n",
      "_________________________________________________________________\n"
     ]
    }
   ],
   "metadata": {}
  },
  {
   "cell_type": "code",
   "execution_count": 13,
   "source": [
    "# optimizador:\n",
    "nadam = optimizers.Nadam(learning_rate=0.001)\n",
    "\n",
    "# compilamos la red:\n",
    "model1.compile(\n",
    "    optimizer= nadam, # <--- Elegimos el método de optmimización,\n",
    "    loss='binary_crossentropy',# <-- función de costo recomendada para clasificación binaria\n",
    "    metrics='accuracy'\n",
    "    )"
   ],
   "outputs": [],
   "metadata": {}
  },
  {
   "cell_type": "code",
   "execution_count": 14,
   "source": [
    "# Entrenemos el modelo:\n",
    "results1 = model1.fit(\n",
    "    x_train_part, \n",
    "    y_train_part,\n",
    "    epochs=n_epochs,\n",
    "    batch_size=n_batch_size,\n",
    "    validation_data=(x_validation , y_validation) # <-- agregamos datos para validación\n",
    "    )"
   ],
   "outputs": [
    {
     "output_type": "stream",
     "name": "stdout",
     "text": [
      "Epoch 1/20\n",
      "20/20 [==============================] - 2s 67ms/step - loss: 0.6232 - accuracy: 0.6509 - val_loss: 0.5176 - val_accuracy: 0.8057\n",
      "Epoch 2/20\n",
      "20/20 [==============================] - 1s 37ms/step - loss: 0.4147 - accuracy: 0.8790 - val_loss: 0.3743 - val_accuracy: 0.8611\n",
      "Epoch 3/20\n",
      "20/20 [==============================] - 1s 40ms/step - loss: 0.2662 - accuracy: 0.9250 - val_loss: 0.3161 - val_accuracy: 0.8780\n",
      "Epoch 4/20\n",
      "20/20 [==============================] - 1s 39ms/step - loss: 0.1855 - accuracy: 0.9490 - val_loss: 0.2982 - val_accuracy: 0.8794\n",
      "Epoch 5/20\n",
      "20/20 [==============================] - 1s 35ms/step - loss: 0.1371 - accuracy: 0.9652 - val_loss: 0.3054 - val_accuracy: 0.8745\n",
      "Epoch 6/20\n",
      "20/20 [==============================] - 1s 34ms/step - loss: 0.1031 - accuracy: 0.9765 - val_loss: 0.3163 - val_accuracy: 0.8729\n",
      "Epoch 7/20\n",
      "20/20 [==============================] - 1s 36ms/step - loss: 0.0775 - accuracy: 0.9854 - val_loss: 0.3450 - val_accuracy: 0.8679\n",
      "Epoch 8/20\n",
      "20/20 [==============================] - 1s 37ms/step - loss: 0.0598 - accuracy: 0.9907 - val_loss: 0.3589 - val_accuracy: 0.8690\n",
      "Epoch 9/20\n",
      "20/20 [==============================] - 1s 38ms/step - loss: 0.0451 - accuracy: 0.9947 - val_loss: 0.3721 - val_accuracy: 0.8693\n",
      "Epoch 10/20\n",
      "20/20 [==============================] - 1s 40ms/step - loss: 0.0346 - accuracy: 0.9971 - val_loss: 0.3955 - val_accuracy: 0.8673\n",
      "Epoch 11/20\n",
      "20/20 [==============================] - 1s 39ms/step - loss: 0.0268 - accuracy: 0.9986 - val_loss: 0.4179 - val_accuracy: 0.8657\n",
      "Epoch 12/20\n",
      "20/20 [==============================] - 1s 41ms/step - loss: 0.0212 - accuracy: 0.9993 - val_loss: 0.4341 - val_accuracy: 0.8663\n",
      "Epoch 13/20\n",
      "20/20 [==============================] - 1s 36ms/step - loss: 0.0172 - accuracy: 0.9997 - val_loss: 0.4534 - val_accuracy: 0.8645\n",
      "Epoch 14/20\n",
      "20/20 [==============================] - 1s 36ms/step - loss: 0.0141 - accuracy: 0.9998 - val_loss: 0.4716 - val_accuracy: 0.8645\n",
      "Epoch 15/20\n",
      "20/20 [==============================] - 1s 34ms/step - loss: 0.0118 - accuracy: 0.9998 - val_loss: 0.4881 - val_accuracy: 0.8641\n",
      "Epoch 16/20\n",
      "20/20 [==============================] - 1s 39ms/step - loss: 0.0099 - accuracy: 0.9998 - val_loss: 0.5056 - val_accuracy: 0.8638\n",
      "Epoch 17/20\n",
      "20/20 [==============================] - 1s 40ms/step - loss: 0.0084 - accuracy: 0.9998 - val_loss: 0.5201 - val_accuracy: 0.8642\n",
      "Epoch 18/20\n",
      "20/20 [==============================] - 1s 39ms/step - loss: 0.0072 - accuracy: 0.9998 - val_loss: 0.5358 - val_accuracy: 0.8625\n",
      "Epoch 19/20\n",
      "20/20 [==============================] - 1s 37ms/step - loss: 0.0062 - accuracy: 0.9999 - val_loss: 0.5495 - val_accuracy: 0.8621\n",
      "Epoch 20/20\n",
      "20/20 [==============================] - 1s 35ms/step - loss: 0.0055 - accuracy: 0.9999 - val_loss: 0.5627 - val_accuracy: 0.8622\n"
     ]
    }
   ],
   "metadata": {}
  },
  {
   "cell_type": "code",
   "execution_count": 15,
   "source": [
    "# visualizamos resultados:\n",
    "\n",
    "history_dict = results1.history  # <-- extrae en 'accuracy' y 'loss' de cada 'epoch'\n",
    "# history_dict = {'loss':[...], 'accuracy':[...], 'val_loss':[...], 'val_accuracy':[...] }\n",
    "\n",
    "# Extraemos los valores de 'loss' y 'accuracy' obtenido en cada 'epoch':\n",
    "\n",
    "loss_values_data_train = history_dict['loss']# <-- valores del 'loss' con datos de entrenamiento\n",
    "loss_values_data_valid = history_dict['val_loss'] #<--valores del 'loss' con datos de validación\n",
    "accuracy_values_data_train = history_dict['accuracy']# <-- valores del 'accuracy' con datos de entrenamiento\n",
    "accuracy_values_data_valid = history_dict['val_accuracy'] # <-- valores del 'accuracy' con datos de validación\n",
    "\n",
    "# numeramos 'epochs' contando desde 1:\n",
    "epoch = range(n_epochs)\n",
    "\n",
    "plt.figure()\n",
    "plt.figure(figsize=(15,5))\n",
    "\n",
    "plt.subplot(1,2,1)\n",
    "plt.plot(epoch, loss_values_data_train, '--', label='Loss with training data')\n",
    "plt.plot(epoch, loss_values_data_valid, '--', label='Loss with validation data')\n",
    "plt.legend()\n",
    "plt.title('Loss')\n",
    "plt.xlabel('epoch')\n",
    "\n",
    "plt.subplot(1,2,2)\n",
    "plt.plot(epoch, accuracy_values_data_train, label='accuracy with training data')\n",
    "plt.plot(epoch, accuracy_values_data_valid, label='accuracy with validation data')\n",
    "plt.legend()\n",
    "plt.title('Accuracy')\n",
    "plt.xlabel('epoch')\n",
    "\n",
    "plt.show()"
   ],
   "outputs": [
    {
     "output_type": "display_data",
     "data": {
      "text/plain": [
       "<Figure size 432x288 with 0 Axes>"
      ]
     },
     "metadata": {}
    },
    {
     "output_type": "display_data",
     "data": {
      "text/plain": [
       "<Figure size 1080x360 with 2 Axes>"
      ],
      "image/png": "[encoded data removed]"
     },
     "metadata": {
      "needs_background": "light"
     }
    }
   ],
   "metadata": {}
  },
  {
   "cell_type": "markdown",
   "source": [
    "### En la grafica anterior se puede observar overfitting:\n",
    "### 'Loss' pequeño con los datos de entrenamiento y 'Loss' grande con los datos de validación,\n",
    "### es decir: El modelo memorizó pero no aprendió"
   ],
   "metadata": {}
  },
  {
   "cell_type": "code",
   "execution_count": 16,
   "source": [
    "# medimos precisión del entrenamiento con los datos de prueba:\n",
    "model1.evaluate(x_test,y_test)"
   ],
   "outputs": [
    {
     "output_type": "stream",
     "name": "stdout",
     "text": [
      "782/782 [==============================] - 2s 2ms/step - loss: 0.5764 - accuracy: 0.8549\n"
     ]
    },
    {
     "output_type": "execute_result",
     "data": {
      "text/plain": [
       "[0.5763525366783142, 0.8548799753189087]"
      ]
     },
     "metadata": {},
     "execution_count": 16
    }
   ],
   "metadata": {}
  },
  {
   "cell_type": "markdown",
   "source": [
    "# Pruebas con red neuronal 2: Red menos compleja (pocas conexiones)"
   ],
   "metadata": {}
  },
  {
   "cell_type": "code",
   "execution_count": 17,
   "source": [
    "# Creamos red neuronal 2:\n",
    "\n",
    "nn1 = 4 # <-- numero de neuronas para la capa 1\n",
    "nn2 = 4  # <-- numero de neuronas de la capa 2\n",
    "nn3 = 1  # <-- numero de neuronas de la capa 3\n",
    "\n",
    "n_epochs = 20\n",
    "n_batch_size = 512\n",
    "\n",
    "# INICIALIZAMOS RED\n",
    "model2 = models.Sequential() # <-- se inicializa la red\n",
    "\n",
    "# Se van agregando las capas con sus parámetros:\n",
    "model2.add( layers.Dense(nn1 ,activation='relu', input_shape = dim_feature) )# <-- capa 1 (Recibe features)\n",
    "model2.add( layers.Dense(nn2, activation='relu') ) # <-- capa 2\n",
    "model2.add( layers.Dense(nn3, activation='sigmoid') )#<-- capa de salida (Arroja labels predichos)"
   ],
   "outputs": [],
   "metadata": {}
  },
  {
   "cell_type": "code",
   "execution_count": 18,
   "source": [
    "# visualzamos la arquitecura de la red:\n",
    "model2.summary()"
   ],
   "outputs": [
    {
     "output_type": "stream",
     "name": "stdout",
     "text": [
      "Model: \"sequential_1\"\n",
      "_________________________________________________________________\n",
      "Layer (type)                 Output Shape              Param #   \n",
      "=================================================================\n",
      "dense_3 (Dense)              (None, 4)                 40004     \n",
      "_________________________________________________________________\n",
      "dense_4 (Dense)              (None, 4)                 20        \n",
      "_________________________________________________________________\n",
      "dense_5 (Dense)              (None, 1)                 5         \n",
      "=================================================================\n",
      "Total params: 40,029\n",
      "Trainable params: 40,029\n",
      "Non-trainable params: 0\n",
      "_________________________________________________________________\n"
     ]
    }
   ],
   "metadata": {}
  },
  {
   "cell_type": "code",
   "execution_count": 19,
   "source": [
    "# optimizador:\n",
    "nadam = optimizers.Nadam(learning_rate=0.001)\n",
    "\n",
    "# compilamos la red:\n",
    "model2.compile(\n",
    "    optimizer= nadam, # <--- Elegimos el método de optmimización,\n",
    "    loss='binary_crossentropy',# <-- función de costo recomendada para clasificación no binaria\n",
    "    metrics='accuracy'\n",
    "    )"
   ],
   "outputs": [],
   "metadata": {}
  },
  {
   "cell_type": "code",
   "execution_count": 20,
   "source": [
    "# Entrenemos el modelo:\n",
    "results2 = model2.fit(\n",
    "    x_train_part, \n",
    "    y_train_part,\n",
    "    epochs=n_epochs,\n",
    "    batch_size=n_batch_size,\n",
    "    validation_data=(x_validation , y_validation))"
   ],
   "outputs": [
    {
     "output_type": "stream",
     "name": "stdout",
     "text": [
      "Epoch 1/20\n",
      "20/20 [==============================] - 2s 57ms/step - loss: 0.6643 - accuracy: 0.6333 - val_loss: 0.6194 - val_accuracy: 0.7335\n",
      "Epoch 2/20\n",
      "20/20 [==============================] - 1s 30ms/step - loss: 0.5691 - accuracy: 0.8100 - val_loss: 0.5376 - val_accuracy: 0.7702\n",
      "Epoch 3/20\n",
      "20/20 [==============================] - 1s 30ms/step - loss: 0.4591 - accuracy: 0.8846 - val_loss: 0.4445 - val_accuracy: 0.8585\n",
      "Epoch 4/20\n",
      "20/20 [==============================] - 1s 29ms/step - loss: 0.3656 - accuracy: 0.9170 - val_loss: 0.3849 - val_accuracy: 0.8731\n",
      "Epoch 5/20\n",
      "20/20 [==============================] - 1s 31ms/step - loss: 0.2989 - accuracy: 0.9331 - val_loss: 0.3504 - val_accuracy: 0.8733\n",
      "Epoch 6/20\n",
      "20/20 [==============================] - 1s 29ms/step - loss: 0.2514 - accuracy: 0.9426 - val_loss: 0.3265 - val_accuracy: 0.8799\n",
      "Epoch 7/20\n",
      "20/20 [==============================] - 1s 29ms/step - loss: 0.2154 - accuracy: 0.9510 - val_loss: 0.3125 - val_accuracy: 0.8790\n",
      "Epoch 8/20\n",
      "20/20 [==============================] - 1s 33ms/step - loss: 0.1881 - accuracy: 0.9582 - val_loss: 0.3044 - val_accuracy: 0.8801\n",
      "Epoch 9/20\n",
      "20/20 [==============================] - 1s 33ms/step - loss: 0.1659 - accuracy: 0.9647 - val_loss: 0.3001 - val_accuracy: 0.8797\n",
      "Epoch 10/20\n",
      "20/20 [==============================] - 1s 33ms/step - loss: 0.1470 - accuracy: 0.9686 - val_loss: 0.2994 - val_accuracy: 0.8782\n",
      "Epoch 11/20\n",
      "20/20 [==============================] - 1s 33ms/step - loss: 0.1313 - accuracy: 0.9737 - val_loss: 0.2997 - val_accuracy: 0.8768\n",
      "Epoch 12/20\n",
      "20/20 [==============================] - 1s 33ms/step - loss: 0.1180 - accuracy: 0.9781 - val_loss: 0.3015 - val_accuracy: 0.8762\n",
      "Epoch 13/20\n",
      "20/20 [==============================] - 1s 33ms/step - loss: 0.1061 - accuracy: 0.9806 - val_loss: 0.3053 - val_accuracy: 0.8749\n",
      "Epoch 14/20\n",
      "20/20 [==============================] - 1s 34ms/step - loss: 0.0961 - accuracy: 0.9834 - val_loss: 0.3094 - val_accuracy: 0.8728\n",
      "Epoch 15/20\n",
      "20/20 [==============================] - 1s 33ms/step - loss: 0.0875 - accuracy: 0.9863 - val_loss: 0.3152 - val_accuracy: 0.8725\n",
      "Epoch 16/20\n",
      "20/20 [==============================] - 1s 31ms/step - loss: 0.0793 - accuracy: 0.9883 - val_loss: 0.3201 - val_accuracy: 0.8722\n",
      "Epoch 17/20\n",
      "20/20 [==============================] - 1s 39ms/step - loss: 0.0721 - accuracy: 0.9905 - val_loss: 0.3264 - val_accuracy: 0.8717\n",
      "Epoch 18/20\n",
      "20/20 [==============================] - 1s 38ms/step - loss: 0.0657 - accuracy: 0.9923 - val_loss: 0.3329 - val_accuracy: 0.8705\n",
      "Epoch 19/20\n",
      "20/20 [==============================] - 1s 38ms/step - loss: 0.0600 - accuracy: 0.9928 - val_loss: 0.3397 - val_accuracy: 0.8695\n",
      "Epoch 20/20\n",
      "20/20 [==============================] - 1s 32ms/step - loss: 0.0550 - accuracy: 0.9940 - val_loss: 0.3468 - val_accuracy: 0.8689\n"
     ]
    }
   ],
   "metadata": {}
  },
  {
   "cell_type": "code",
   "execution_count": 21,
   "source": [
    "# visualizamos resultados:\n",
    "\n",
    "history_dict = results2.history  # <-- extrae en 'accuracy' y 'loss' de cada 'epoch'\n",
    "# history_dict = {'loss':[...], 'accuracy':[...], 'val_loss':[...], 'val_accuracy':[...] }\n",
    "\n",
    "# Extraemos los valores de 'loss' y 'accuracy' obtenido en cada 'epoch':\n",
    "\n",
    "loss_values_data_train = history_dict['loss']# <-- valores del 'loss' con datos de entrenamiento\n",
    "loss_values_data_valid = history_dict['val_loss'] #<--valores del 'loss' con datos de validación\n",
    "accuracy_values_data_train = history_dict['accuracy']# <-- valores del 'accuracy' con datos de entrenamiento\n",
    "accuracy_values_data_valid = history_dict['val_accuracy'] # <-- valores del 'accuracy' con datos de validación\n",
    "\n",
    "# numeramos 'epochs' contando desde 1:\n",
    "epoch = range(n_epochs)\n",
    "\n",
    "plt.figure()\n",
    "plt.figure(figsize=(15,5))\n",
    "\n",
    "plt.subplot(1,2,1)\n",
    "plt.plot(epoch, loss_values_data_train, '--', label='Loss with training data')\n",
    "plt.plot(epoch, loss_values_data_valid, '--', label='Loss with validation data')\n",
    "plt.legend()\n",
    "plt.title('Loss')\n",
    "plt.xlabel('epoch')\n",
    "\n",
    "plt.subplot(1,2,2)\n",
    "plt.plot(epoch, accuracy_values_data_train, label='accuracy with training data')\n",
    "plt.plot(epoch, accuracy_values_data_valid, label='accuracy with validation data')\n",
    "plt.legend()\n",
    "plt.title('Accuracy')\n",
    "plt.xlabel('epoch')\n",
    "\n",
    "plt.show()"
   ],
   "outputs": [
    {
     "output_type": "display_data",
     "data": {
      "text/plain": [
       "<Figure size 432x288 with 0 Axes>"
      ]
     },
     "metadata": {}
    },
    {
     "output_type": "display_data",
     "data": {
      "text/plain": [
       "<Figure size 1080x360 with 2 Axes>"
      ],
      "image/png": "[encoded data removed]"
     },
     "metadata": {
      "needs_background": "light"
     }
    }
   ],
   "metadata": {}
  },
  {
   "cell_type": "markdown",
   "source": [
    "### En la grafica anterior se puede observar overfitting:\n",
    "### 'Loss' pequeño con los datos de entrenamiento y 'Loss' grande con los datos de validación"
   ],
   "metadata": {}
  },
  {
   "cell_type": "code",
   "execution_count": 22,
   "source": [
    "# medimos precisión del entrenamiento con los datos de prueba:\n",
    "model2.evaluate(x_test,y_test)"
   ],
   "outputs": [
    {
     "output_type": "stream",
     "name": "stdout",
     "text": [
      "782/782 [==============================] - 2s 2ms/step - loss: 0.3580 - accuracy: 0.8668\n"
     ]
    },
    {
     "output_type": "execute_result",
     "data": {
      "text/plain": [
       "[0.35795465111732483, 0.8668000102043152]"
      ]
     },
     "metadata": {},
     "execution_count": 22
    }
   ],
   "metadata": {}
  },
  {
   "cell_type": "markdown",
   "source": [
    "# Pruebas con red neuronal 3: Red menos compleja (pocas conexiones) + Regularizadores L1-L2"
   ],
   "metadata": {}
  },
  {
   "cell_type": "code",
   "execution_count": 23,
   "source": [
    "# Creamos red neuronal 3:\n",
    "\n",
    "nn1 = 4 # <-- numero de neuronas para la capa 1\n",
    "nn2 = 4  # <-- numero de neuronas de la capa 2\n",
    "nn3 = 1  # <-- numero de neuronas de la capa 3\n",
    "\n",
    "n_epochs = 20\n",
    "n_batch_size = 512\n",
    "\n",
    "alfa_l1 = 0.001 # <-- multiplo del regularizador l1\n",
    "alfa_l2 = 0.001 # <-- multiplo del regularizador l2\n",
    "\n",
    "\n",
    "# INICIALIZAMOS RED\n",
    "model3 = models.Sequential() # <-- se inicializa la red\n",
    "\n",
    "# Se van agregando las capas con sus parámetros:\n",
    "model3.add( layers.Dense(nn1 ,activation='relu', input_shape =dim_feature, kernel_regularizer=regularizers.l1_l2(alfa_l1, alfa_l2)) )# <-- capa 1 (Recibe features) y hemos agregado regularizador\n",
    "model3.add( layers.Dense(nn2, activation='relu', kernel_regularizer=regularizers.l1_l2(alfa_l1, alfa_l2)) ) # <-- capa 2 con regularizado\n",
    "model3.add( layers.Dense(nn3, activation='sigmoid') )#<-- capa de salida (Arroja labels predichos)"
   ],
   "outputs": [],
   "metadata": {}
  },
  {
   "cell_type": "code",
   "execution_count": 24,
   "source": [
    "# visualzamos la arquitecura de la red:\n",
    "model3.summary()"
   ],
   "outputs": [
    {
     "output_type": "stream",
     "name": "stdout",
     "text": [
      "Model: \"sequential_2\"\n",
      "_________________________________________________________________\n",
      "Layer (type)                 Output Shape              Param #   \n",
      "=================================================================\n",
      "dense_6 (Dense)              (None, 4)                 40004     \n",
      "_________________________________________________________________\n",
      "dense_7 (Dense)              (None, 4)                 20        \n",
      "_________________________________________________________________\n",
      "dense_8 (Dense)              (None, 1)                 5         \n",
      "=================================================================\n",
      "Total params: 40,029\n",
      "Trainable params: 40,029\n",
      "Non-trainable params: 0\n",
      "_________________________________________________________________\n"
     ]
    }
   ],
   "metadata": {}
  },
  {
   "cell_type": "code",
   "execution_count": 25,
   "source": [
    "# optimizador:\n",
    "nadam = optimizers.Nadam(learning_rate=0.001)\n",
    "\n",
    "# compilamos el modelo:\n",
    "model3.compile(\n",
    "    optimizer= nadam, # <--- Elegimos el método de optmimización,\n",
    "    loss='binary_crossentropy',# <-- función de costo recomendada para clasificación no binaria\n",
    "    metrics='accuracy'\n",
    "    )"
   ],
   "outputs": [],
   "metadata": {}
  },
  {
   "cell_type": "code",
   "execution_count": 26,
   "source": [
    "# Entrenemos el modelo:\n",
    "results3 = model3.fit(\n",
    "    x_train_part, \n",
    "    y_train_part,\n",
    "    epochs=n_epochs,\n",
    "    batch_size=n_batch_size,\n",
    "    validation_data=(x_validation , y_validation))"
   ],
   "outputs": [
    {
     "output_type": "stream",
     "name": "stdout",
     "text": [
      "Epoch 1/20\n",
      "20/20 [==============================] - 2s 60ms/step - loss: 0.9496 - accuracy: 0.6740 - val_loss: 0.7227 - val_accuracy: 0.7776\n",
      "Epoch 2/20\n",
      "20/20 [==============================] - 1s 33ms/step - loss: 0.6401 - accuracy: 0.8237 - val_loss: 0.6014 - val_accuracy: 0.8250\n",
      "Epoch 3/20\n",
      "20/20 [==============================] - 1s 35ms/step - loss: 0.5679 - accuracy: 0.8528 - val_loss: 0.5594 - val_accuracy: 0.8325\n",
      "Epoch 4/20\n",
      "20/20 [==============================] - 1s 34ms/step - loss: 0.5262 - accuracy: 0.8638 - val_loss: 0.5256 - val_accuracy: 0.8472\n",
      "Epoch 5/20\n",
      "20/20 [==============================] - 1s 38ms/step - loss: 0.4947 - accuracy: 0.8748 - val_loss: 0.5017 - val_accuracy: 0.8547\n",
      "Epoch 6/20\n",
      "20/20 [==============================] - 1s 39ms/step - loss: 0.4706 - accuracy: 0.8804 - val_loss: 0.4858 - val_accuracy: 0.8558\n",
      "Epoch 7/20\n",
      "20/20 [==============================] - 1s 40ms/step - loss: 0.4528 - accuracy: 0.8831 - val_loss: 0.4729 - val_accuracy: 0.8590\n",
      "Epoch 8/20\n",
      "20/20 [==============================] - 1s 37ms/step - loss: 0.4383 - accuracy: 0.8873 - val_loss: 0.4631 - val_accuracy: 0.8607\n",
      "Epoch 9/20\n",
      "20/20 [==============================] - 1s 35ms/step - loss: 0.4271 - accuracy: 0.8889 - val_loss: 0.4562 - val_accuracy: 0.8617\n",
      "Epoch 10/20\n",
      "20/20 [==============================] - 1s 32ms/step - loss: 0.4177 - accuracy: 0.8930 - val_loss: 0.4532 - val_accuracy: 0.8609\n",
      "Epoch 11/20\n",
      "20/20 [==============================] - 1s 33ms/step - loss: 0.4091 - accuracy: 0.8934 - val_loss: 0.4508 - val_accuracy: 0.8611\n",
      "Epoch 12/20\n",
      "20/20 [==============================] - 1s 38ms/step - loss: 0.4034 - accuracy: 0.8950 - val_loss: 0.4434 - val_accuracy: 0.8636\n",
      "Epoch 13/20\n",
      "20/20 [==============================] - 1s 33ms/step - loss: 0.3972 - accuracy: 0.8963 - val_loss: 0.4415 - val_accuracy: 0.8644\n",
      "Epoch 14/20\n",
      "20/20 [==============================] - 1s 32ms/step - loss: 0.3927 - accuracy: 0.8982 - val_loss: 0.4409 - val_accuracy: 0.8630\n",
      "Epoch 15/20\n",
      "20/20 [==============================] - 1s 33ms/step - loss: 0.3864 - accuracy: 0.9014 - val_loss: 0.4371 - val_accuracy: 0.8641\n",
      "Epoch 16/20\n",
      "20/20 [==============================] - 1s 32ms/step - loss: 0.3835 - accuracy: 0.9005 - val_loss: 0.4370 - val_accuracy: 0.8641\n",
      "Epoch 17/20\n",
      "20/20 [==============================] - 1s 33ms/step - loss: 0.3793 - accuracy: 0.9017 - val_loss: 0.4362 - val_accuracy: 0.8650\n",
      "Epoch 18/20\n",
      "20/20 [==============================] - 1s 32ms/step - loss: 0.3752 - accuracy: 0.9046 - val_loss: 0.4358 - val_accuracy: 0.8644\n",
      "Epoch 19/20\n",
      "20/20 [==============================] - 1s 34ms/step - loss: 0.3733 - accuracy: 0.9054 - val_loss: 0.4360 - val_accuracy: 0.8640\n",
      "Epoch 20/20\n",
      "20/20 [==============================] - 1s 33ms/step - loss: 0.3689 - accuracy: 0.9084 - val_loss: 0.4353 - val_accuracy: 0.8647\n"
     ]
    }
   ],
   "metadata": {}
  },
  {
   "cell_type": "code",
   "execution_count": 27,
   "source": [
    "# visualizamos resultados:\n",
    "\n",
    "history_dict = results3.history  # <-- extrae en 'accuracy' y 'loss' de cada 'epoch'\n",
    "# history_dict = {'loss':[...], 'accuracy':[...], 'val_loss':[...], 'val_accuracy':[...] }\n",
    "\n",
    "# Extraemos los valores de 'loss' y 'accuracy' obtenido en cada 'epoch':\n",
    "\n",
    "loss_values_data_train = history_dict['loss']# <-- valores del 'loss' con datos de entrenamiento\n",
    "loss_values_data_valid = history_dict['val_loss'] #<--valores del 'loss' con datos de validación\n",
    "accuracy_values_data_train = history_dict['accuracy']# <-- valores del 'accuracy' con datos de entrenamiento\n",
    "accuracy_values_data_valid = history_dict['val_accuracy'] # <-- valores del 'accuracy' con datos de validación\n",
    "\n",
    "# numeramos 'epochs' contando desde 1:\n",
    "epoch = range(n_epochs)\n",
    "\n",
    "plt.figure()\n",
    "plt.figure(figsize=(15,5))\n",
    "\n",
    "plt.subplot(1,2,1)\n",
    "plt.plot(epoch, loss_values_data_train, '--', label='Loss with training data')\n",
    "plt.plot(epoch, loss_values_data_valid, '--', label='Loss with validation data')\n",
    "plt.legend()\n",
    "plt.title('Loss')\n",
    "plt.xlabel('epoch')\n",
    "\n",
    "plt.subplot(1,2,2)\n",
    "plt.plot(epoch, accuracy_values_data_train, label='accuracy with training data')\n",
    "plt.plot(epoch, accuracy_values_data_valid, label='accuracy with validation data')\n",
    "plt.legend()\n",
    "plt.title('Accuracy')\n",
    "plt.xlabel('epoch')\n",
    "\n",
    "plt.show()\n"
   ],
   "outputs": [
    {
     "output_type": "display_data",
     "data": {
      "text/plain": [
       "<Figure size 432x288 with 0 Axes>"
      ]
     },
     "metadata": {}
    },
    {
     "output_type": "display_data",
     "data": {
      "text/plain": [
       "<Figure size 1080x360 with 2 Axes>"
      ],
      "image/png": "[encoded data removed]"
     },
     "metadata": {
      "needs_background": "light"
     }
    }
   ],
   "metadata": {}
  },
  {
   "cell_type": "markdown",
   "source": [
    "### En la grafica anterior se puede observar que hemos reducido el overfitting:\n",
    "### 'Loss' pequeño con los datos de entrenamiento y 'Loss' pequeño con los datos de validación"
   ],
   "metadata": {}
  },
  {
   "cell_type": "code",
   "execution_count": 28,
   "source": [
    "# medimos precisión del entrenamiento con los datos de prueba:\n",
    "model3.evaluate(x_test,y_test)"
   ],
   "outputs": [
    {
     "output_type": "stream",
     "name": "stdout",
     "text": [
      "782/782 [==============================] - 2s 3ms/step - loss: 0.4328 - accuracy: 0.8660\n"
     ]
    },
    {
     "output_type": "execute_result",
     "data": {
      "text/plain": [
       "[0.43277910351753235, 0.8660399913787842]"
      ]
     },
     "metadata": {},
     "execution_count": 28
    }
   ],
   "metadata": {}
  },
  {
   "cell_type": "markdown",
   "source": [
    "# Pruebas con red neuronal 4: Red menos compleja (pocas conexiones) + Dropout"
   ],
   "metadata": {}
  },
  {
   "cell_type": "code",
   "execution_count": 29,
   "source": [
    "# Creamos red neuronal 4:\n",
    "\n",
    "nn1 = 4 # <-- numero de neuronas para la capa 1\n",
    "nn2 = 4  # <-- numero de neuronas de la capa 2\n",
    "nn3 = 1  # <-- numero de neuronas de la capa 3\n",
    "\n",
    "n_epochs = 20\n",
    "n_batch_size = 512\n",
    "\n",
    "p_active = 0.5 #<-- porcentaje de neuronas a activar aleatoriamente en las capas con dropout\n",
    "\n",
    "#alfa_l1 = 0.001 # <-- multiplo del regularizador l1\n",
    "#alfa_l2 = 0.001 # <-- multiplo del regularizador l2\n",
    "\n",
    "# INICIALIZAMOS RED\n",
    "model4 = models.Sequential() # <-- se inicializa la red\n",
    "\n",
    "# Se van agregando las capas con sus parámetros:\n",
    "model4.add( layers.Dense(nn1 ,activation='relu', input_shape = dim_feature) )# <-- capa 1 (Recibe features)\n",
    "model4.add( layers.Dropout(p_active) ) # hacemos \"dropout\" a la capa anterior\n",
    "model4.add( layers.Dense(nn2, activation='relu') ) # capa 2\n",
    "model4.add( layers.Dropout(p_active) ) # hacemos \"dropout\" a la capa anterior\n",
    "model4.add( layers.Dense(nn3, activation='sigmoid')  ) # capa de salida (Arroja labels predichos)"
   ],
   "outputs": [],
   "metadata": {}
  },
  {
   "cell_type": "code",
   "execution_count": 30,
   "source": [
    "# visualzamos la arquitecura de la red:\n",
    "model4.summary()"
   ],
   "outputs": [
    {
     "output_type": "stream",
     "name": "stdout",
     "text": [
      "Model: \"sequential_3\"\n",
      "_________________________________________________________________\n",
      "Layer (type)                 Output Shape              Param #   \n",
      "=================================================================\n",
      "dense_9 (Dense)              (None, 4)                 40004     \n",
      "_________________________________________________________________\n",
      "dropout (Dropout)            (None, 4)                 0         \n",
      "_________________________________________________________________\n",
      "dense_10 (Dense)             (None, 4)                 20        \n",
      "_________________________________________________________________\n",
      "dropout_1 (Dropout)          (None, 4)                 0         \n",
      "_________________________________________________________________\n",
      "dense_11 (Dense)             (None, 1)                 5         \n",
      "=================================================================\n",
      "Total params: 40,029\n",
      "Trainable params: 40,029\n",
      "Non-trainable params: 0\n",
      "_________________________________________________________________\n"
     ]
    }
   ],
   "metadata": {}
  },
  {
   "cell_type": "code",
   "execution_count": 31,
   "source": [
    "# optimizador:\n",
    "nadam = optimizers.Nadam(learning_rate=0.001)\n",
    "\n",
    "model4.compile(\n",
    "    optimizer= nadam, # <--- Elegimos el método de optmimización,\n",
    "    loss='binary_crossentropy',# <-- función de costo recomendada para clasificación no binaria\n",
    "    metrics='accuracy' # <-- Métrica para evaluar entrenamiento: 'accuracy'\n",
    "    )"
   ],
   "outputs": [],
   "metadata": {}
  },
  {
   "cell_type": "code",
   "execution_count": 32,
   "source": [
    "# Entrenemos el modelo:\n",
    "results4 = model4.fit(\n",
    "    x_train_part, \n",
    "    y_train_part,\n",
    "    epochs=n_epochs,\n",
    "    batch_size=n_batch_size,\n",
    "    validation_data=(x_validation , y_validation))"
   ],
   "outputs": [
    {
     "output_type": "stream",
     "name": "stdout",
     "text": [
      "Epoch 1/20\n",
      "20/20 [==============================] - 2s 57ms/step - loss: 0.6936 - accuracy: 0.5003 - val_loss: 0.6861 - val_accuracy: 0.4994\n",
      "Epoch 2/20\n",
      "20/20 [==============================] - 1s 30ms/step - loss: 0.6771 - accuracy: 0.5543 - val_loss: 0.6530 - val_accuracy: 0.6145\n",
      "Epoch 3/20\n",
      "20/20 [==============================] - 1s 35ms/step - loss: 0.6518 - accuracy: 0.6109 - val_loss: 0.6226 - val_accuracy: 0.7064\n",
      "Epoch 4/20\n",
      "20/20 [==============================] - 1s 37ms/step - loss: 0.6292 - accuracy: 0.6673 - val_loss: 0.6001 - val_accuracy: 0.8064\n",
      "Epoch 5/20\n",
      "20/20 [==============================] - 1s 39ms/step - loss: 0.6070 - accuracy: 0.6783 - val_loss: 0.5599 - val_accuracy: 0.8358\n",
      "Epoch 6/20\n",
      "20/20 [==============================] - 1s 37ms/step - loss: 0.5761 - accuracy: 0.6845 - val_loss: 0.5114 - val_accuracy: 0.8651\n",
      "Epoch 7/20\n",
      "20/20 [==============================] - 1s 35ms/step - loss: 0.5447 - accuracy: 0.7046 - val_loss: 0.4875 - val_accuracy: 0.8604\n",
      "Epoch 8/20\n",
      "20/20 [==============================] - 1s 36ms/step - loss: 0.5286 - accuracy: 0.7162 - val_loss: 0.4619 - val_accuracy: 0.8583\n",
      "Epoch 9/20\n",
      "20/20 [==============================] - 1s 33ms/step - loss: 0.5092 - accuracy: 0.7276 - val_loss: 0.4359 - val_accuracy: 0.8770\n",
      "Epoch 10/20\n",
      "20/20 [==============================] - 1s 32ms/step - loss: 0.4933 - accuracy: 0.7433 - val_loss: 0.4179 - val_accuracy: 0.8747\n",
      "Epoch 11/20\n",
      "20/20 [==============================] - 1s 32ms/step - loss: 0.4786 - accuracy: 0.7611 - val_loss: 0.4052 - val_accuracy: 0.8750\n",
      "Epoch 12/20\n",
      "20/20 [==============================] - 1s 35ms/step - loss: 0.4798 - accuracy: 0.7527 - val_loss: 0.3918 - val_accuracy: 0.8720\n",
      "Epoch 13/20\n",
      "20/20 [==============================] - 1s 32ms/step - loss: 0.4669 - accuracy: 0.7687 - val_loss: 0.3908 - val_accuracy: 0.8738\n",
      "Epoch 14/20\n",
      "20/20 [==============================] - 1s 37ms/step - loss: 0.4566 - accuracy: 0.7790 - val_loss: 0.3811 - val_accuracy: 0.8691\n",
      "Epoch 15/20\n",
      "20/20 [==============================] - 1s 30ms/step - loss: 0.4505 - accuracy: 0.7861 - val_loss: 0.3616 - val_accuracy: 0.8789\n",
      "Epoch 16/20\n",
      "20/20 [==============================] - 1s 30ms/step - loss: 0.4354 - accuracy: 0.8026 - val_loss: 0.3637 - val_accuracy: 0.8764\n",
      "Epoch 17/20\n",
      "20/20 [==============================] - 1s 29ms/step - loss: 0.4235 - accuracy: 0.8111 - val_loss: 0.3603 - val_accuracy: 0.8754\n",
      "Epoch 18/20\n",
      "20/20 [==============================] - 1s 29ms/step - loss: 0.4146 - accuracy: 0.8216 - val_loss: 0.3615 - val_accuracy: 0.8748\n",
      "Epoch 19/20\n",
      "20/20 [==============================] - 1s 29ms/step - loss: 0.4110 - accuracy: 0.8243 - val_loss: 0.3498 - val_accuracy: 0.8754\n",
      "Epoch 20/20\n",
      "20/20 [==============================] - 1s 29ms/step - loss: 0.3987 - accuracy: 0.8334 - val_loss: 0.3583 - val_accuracy: 0.8712\n"
     ]
    }
   ],
   "metadata": {}
  },
  {
   "cell_type": "code",
   "execution_count": 33,
   "source": [
    "# visualizamos resultados:\n",
    "\n",
    "history_dict = results4.history  # <-- extrae en 'accuracy' y 'loss' de cada 'epoch'\n",
    "# history_dict = {'loss':[...], 'accuracy':[...], 'val_loss':[...], 'val_accuracy':[...] }\n",
    "\n",
    "# Extraemos los valores de 'loss' y 'accuracy' obtenido en cada 'epoch':\n",
    "\n",
    "loss_values_data_train = history_dict['loss']# <-- valores del 'loss' con datos de entrenamiento\n",
    "loss_values_data_valid = history_dict['val_loss'] #<--valores del 'loss' con datos de validación\n",
    "accuracy_values_data_train = history_dict['accuracy']# <-- valores del 'accuracy' con datos de entrenamiento\n",
    "accuracy_values_data_valid = history_dict['val_accuracy'] # <-- valores del 'accuracy' con datos de validación\n",
    "\n",
    "# numeramos 'epochs' contando desde 1:\n",
    "epoch = range(n_epochs)\n",
    "\n",
    "plt.figure()\n",
    "plt.figure(figsize=(15,5))\n",
    "\n",
    "plt.subplot(1,2,1)\n",
    "plt.plot(epoch, loss_values_data_train, '--', label='Loss with training data')\n",
    "plt.plot(epoch, loss_values_data_valid, '--', label='Loss with validation data')\n",
    "plt.legend()\n",
    "plt.title('Loss')\n",
    "plt.xlabel('epoch')\n",
    "\n",
    "plt.subplot(1,2,2)\n",
    "plt.plot(epoch, accuracy_values_data_train, label='accuracy with training data')\n",
    "plt.plot(epoch, accuracy_values_data_valid, label='accuracy with validation data')\n",
    "plt.legend()\n",
    "plt.title('Accuracy')\n",
    "plt.xlabel('epoch')\n",
    "\n",
    "plt.show()"
   ],
   "outputs": [
    {
     "output_type": "display_data",
     "data": {
      "text/plain": [
       "<Figure size 432x288 with 0 Axes>"
      ]
     },
     "metadata": {}
    },
    {
     "output_type": "display_data",
     "data": {
      "text/plain": [
       "<Figure size 1080x360 with 2 Axes>"
      ],
      "image/png": "[encoded data removed]"
     },
     "metadata": {
      "needs_background": "light"
     }
    }
   ],
   "metadata": {}
  },
  {
   "cell_type": "markdown",
   "source": [
    "### En la grafica anterior se puede observar que hemos eliminado completamente el overfitting:\n",
    "### 'Loss' pequeño con los datos de entrenamiento y 'Loss' pequeño con los datos de validación"
   ],
   "metadata": {}
  },
  {
   "cell_type": "code",
   "execution_count": 34,
   "source": [
    "# medimos precisión del entrenamiento con los datos de prueba:\n",
    "model4.evaluate(x_test,y_test)"
   ],
   "outputs": [
    {
     "output_type": "stream",
     "name": "stdout",
     "text": [
      "782/782 [==============================] - 2s 3ms/step - loss: 0.3672 - accuracy: 0.8678\n"
     ]
    },
    {
     "output_type": "execute_result",
     "data": {
      "text/plain": [
       "[0.3672499656677246, 0.8677999973297119]"
      ]
     },
     "metadata": {},
     "execution_count": 34
    }
   ],
   "metadata": {}
  },
  {
   "cell_type": "markdown",
   "source": [
    "## Hacemos predicciones con el ultimo modelo entrenado:"
   ],
   "metadata": {}
  },
  {
   "cell_type": "code",
   "execution_count": 35,
   "source": [
    "# Predecimos las etiquetas de todos los features de prueba: \n",
    "y_predict = model4.predict(x_test)\n",
    "\n",
    "y_predict.shape"
   ],
   "outputs": [
    {
     "output_type": "execute_result",
     "data": {
      "text/plain": [
       "(25000, 1)"
      ]
     },
     "metadata": {},
     "execution_count": 35
    }
   ],
   "metadata": {}
  },
  {
   "cell_type": "code",
   "execution_count": 36,
   "source": [
    "# Predecimos una etiqueta en particular:\n",
    "\n",
    "i = 478 #<--- indice del valor a predecir (< 25000)\n",
    "\n",
    "label_obs  = labels_test[i] #np.argmax(y_test[i])\n",
    "label_aprx = np.round( y_predict[i] )#np.argmax(y_predict[i])\n",
    "\n",
    "print('    Etiqueta real: ', label_obs )\n",
    "print('Etiqueta predicha: ', label_aprx )"
   ],
   "outputs": [
    {
     "output_type": "stream",
     "name": "stdout",
     "text": [
      "    Etiqueta real:  1\n",
      "Etiqueta predicha:  [1.]\n"
     ]
    }
   ],
   "metadata": {}
  },
  {
   "cell_type": "code",
   "execution_count": null,
   "source": [],
   "outputs": [],
   "metadata": {}
  }
 ],
 "metadata": {
  "orig_nbformat": 4,
  "language_info": {
   "name": "python",
   "version": "3.8.10",
   "mimetype": "text/x-python",
   "codemirror_mode": {
    "name": "ipython",
    "version": 3
   },
   "pygments_lexer": "ipython3",
   "nbconvert_exporter": "python",
   "file_extension": ".py"
  },
  "kernelspec": {
   "name": "python3",
   "display_name": "Python 3.8.10 64-bit"
  },
  "interpreter": {
   "hash": "31f2aee4e71d21fbe5cf8b01ff0e069b9275f58929596ceb00d14d90e3e16cd6"
  }
 },
 "nbformat": 4,
 "nbformat_minor": 2
}
