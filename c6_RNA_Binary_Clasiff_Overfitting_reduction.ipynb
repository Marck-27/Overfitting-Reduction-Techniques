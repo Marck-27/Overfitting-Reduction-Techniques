{
 "cells": [
  {
   "cell_type": "markdown",
   "source": [
    "# Proyecto: Técnicas para prevenir error de \"Overfitting\"\n",
    "\n",
    "\n",
    "## En el presente proyecto se muestra un problema de clasificación binaria con redes neuronales donde la capa de salida tiene una sola neurona,\n",
    "\n",
    "## por lo que la función de activación en la capa de salida es del tipo `activation = sigmoid` y la función de costo es del tipo `loss = binary_crossentropy`\n",
    "\n",
    "## Haremos \"Overfitting\" intencionalmente, posteriormente revisaremos técnicas para eliminarlo mediante:\n",
    "\n",
    "## * Regularización (con normas $L_{1}$ y $L_{2}$)\n",
    "\n",
    "## * DropOut (reducción del porcentaje de neuronas a activar en cada capa)\n",
    "\n",
    "## Trabajaremos con el dataset \"imdb\" de Keras que corresponde a reseñas (comentarios) que son de 2 clases distintas: buenos ó malos (clasificación binaria)"
   ],
   "metadata": {}
  },
  {
   "cell_type": "code",
   "execution_count": 1,
   "source": [
    "import numpy as np\n",
    "\n",
    "# importamos funciones para construir redes neuronales:\n",
    "from tensorflow.keras import layers, models, optimizers, regularizers\n",
    "\n",
    "# importamos dataset:\n",
    "from keras.datasets import imdb\n",
    "\n",
    "# Librería para separar datos:\n",
    "from sklearn.model_selection import train_test_split\n",
    "\n",
    "# función para codificar variables\n",
    "from tensorflow.keras.utils import to_categorical\n",
    "\n",
    "import matplotlib.pyplot as plt\n"
   ],
   "outputs": [],
   "metadata": {}
  },
  {
   "cell_type": "code",
   "execution_count": 2,
   "source": [
    "# Cargamos datos:\n",
    "\n",
    "# Maximo numero de palabras en cada mensaje\n",
    "N = 10000\n",
    "\n",
    "(features_train , labels_train),(features_test , labels_test) = imdb.load_data(num_words=N)\n",
    "\n",
    "# Diccionario {'palabra':numero} correspondiente al dataset 'reuters'\n",
    "dict_word_index = imdb.get_word_index()\n",
    "\n",
    "# Los 'features' son arreglos cuyos elementos son listas de la forma:\n",
    "# feature[i] = [n0,n1,...,nk] donde cada número 'ni' corresponde a una palabla\n",
    "# cuyo valor se decodifica con el diccionario 'dict_word_index'.\n",
    "# Así que cada lista 'feature[i]' representa un comentario.\n",
    "#  \n",
    "# El valor de cada 'label' es un número entero entre 0 y 45, que representa alguna de las\n",
    "# 46 clasificaciones que puede tomar el 'feature' (comentario) correspondiente."
   ],
   "outputs": [
    {
     "output_type": "stream",
     "name": "stderr",
     "text": [
      "<__array_function__ internals>:5: VisibleDeprecationWarning: Creating an ndarray from ragged nested sequences (which is a list-or-tuple of lists-or-tuples-or ndarrays with different lengths or shapes) is deprecated. If you meant to do this, you must specify 'dtype=object' when creating the ndarray\n",
      "/home/marck/.local/lib/python3.8/site-packages/keras/datasets/imdb.py:155: VisibleDeprecationWarning: Creating an ndarray from ragged nested sequences (which is a list-or-tuple of lists-or-tuples-or ndarrays with different lengths or shapes) is deprecated. If you meant to do this, you must specify 'dtype=object' when creating the ndarray\n",
      "  x_train, y_train = np.array(xs[:idx]), np.array(labels[:idx])\n",
      "/home/marck/.local/lib/python3.8/site-packages/keras/datasets/imdb.py:156: VisibleDeprecationWarning: Creating an ndarray from ragged nested sequences (which is a list-or-tuple of lists-or-tuples-or ndarrays with different lengths or shapes) is deprecated. If you meant to do this, you must specify 'dtype=object' when creating the ndarray\n",
      "  x_test, y_test = np.array(xs[idx:]), np.array(labels[idx:])\n"
     ]
    }
   ],
   "metadata": {}
  },
  {
   "cell_type": "markdown",
   "source": [
    "## Exploramos los datos:"
   ],
   "metadata": {}
  },
  {
   "cell_type": "code",
   "execution_count": 3,
   "source": [
    "# Exploramos datos:\n",
    "\n",
    "print('El dataset \"features_train\" es de tamaño:' , features_train.shape)\n",
    "print('El dataset \"features_test\" es de tamaño:' , features_test.shape)\n",
    "print('Cada elemento de \"features\" es de tipo:' , type(features_train[0]))\n",
    "\n",
    "print('\\nEl dataset \"labels_train\" es de tamaño:' , labels_train.shape)\n",
    "print('El dataset \"labels_test\" es de tamaño:' , labels_test.shape)\n",
    "print('Cada elemento de \"labels\" es de tipo:' , type(labels_train[0]))"
   ],
   "outputs": [
    {
     "output_type": "stream",
     "name": "stdout",
     "text": [
      "El dataset \"features_train\" es de tamaño: (25000,)\n",
      "El dataset \"features_test\" es de tamaño: (25000,)\n",
      "Cada elemento de \"features\" es de tipo: <class 'list'>\n",
      "\n",
      "El dataset \"labels_train\" es de tamaño: (25000,)\n",
      "El dataset \"labels_test\" es de tamaño: (25000,)\n",
      "Cada elemento de \"labels\" es de tipo: <class 'numpy.int64'>\n"
     ]
    }
   ],
   "metadata": {}
  },
  {
   "cell_type": "markdown",
   "source": [
    "### De la información anterior podemos saber que cada \"feature\" es una lista (correspondiente a la codificación numérica de un mensaje)\n",
    "### cada \"label\" es un numero entero del tipo: `numpy.int64`"
   ],
   "metadata": {}
  },
  {
   "cell_type": "code",
   "execution_count": 4,
   "source": [
    "# Si queremos ver el contenido de un mensaje debemos decodificarlo con el diccionario 'get_word_index()'\n",
    "# como se mestra a continuación:\n",
    "\n",
    "# seleccionmos un mensaje (k < 25000)\n",
    "k = 15\n",
    "\n",
    "numeric_message = features_train[k] # <--- k-esimo mensaje codificado con números\n",
    "\n",
    "# Cambiamos el diccionario a la forma {numero:'palabra'}:\n",
    "dict_index_word = dict( [ (value,key) for key,value in dict_word_index.items() ] )\n",
    "\n",
    "# Decodificamos el k-esimo mensaje:\n",
    "#for n in numeric_message:\n",
    "#    # decodificamos el contenido usando el diccionario 'word_index':\n",
    "#    print( dict_index_word.get(n-3) )"
   ],
   "outputs": [],
   "metadata": {}
  },
  {
   "cell_type": "code",
   "execution_count": 5,
   "source": [
    "# Extraemos las clases totales de las etiquetas del dataset:\n",
    "clases = np.unique(labels_train)\n",
    "n_clases = len(clases)\n",
    "\n",
    "print('Hay',n_clases,'clases posibles para las etiquetas')\n",
    "print('Clases:\\n',clases)"
   ],
   "outputs": [
    {
     "output_type": "stream",
     "name": "stdout",
     "text": [
      "Hay 2 clases posibles para las etiquetas\n",
      "Clases:\n",
      " [0 1]\n"
     ]
    }
   ],
   "metadata": {}
  },
  {
   "cell_type": "markdown",
   "source": [
    "## Codificamos features y labels para entrenar la red:"
   ],
   "metadata": {}
  },
  {
   "cell_type": "code",
   "execution_count": 6,
   "source": [
    "# A continuación creamos una funcón para codificar \n",
    "# los features como arreglos con entradas son binarias \n",
    "\n",
    "# Por ejemplo, \n",
    "# si 'feature' = [0,2,4] enconces,\n",
    "# 'enoded_feature' = [1,0,1,0,1,0,0,0,0,...,0]\n",
    "# 'enoded_feature' tiene '1' solamente en los índices dados en 'feature'\n",
    "\n",
    "# Función que codifica los features con entradas binarias:\n",
    "def features_encoder(features, dim=N):\n",
    "    n_sentense = len(features)\n",
    "\n",
    "    # Inicializamos arreglo con ceros:\n",
    "    binary_features = np.zeros( (n_sentense, dim) )\n",
    "    \n",
    "    for i in range(n_sentense):\n",
    "        for j in features[i]:\n",
    "            # Vamos poniendo unos en los indices que indica 'features[i]'\n",
    "            binary_features[i,j]=1\n",
    "                \n",
    "    return binary_features"
   ],
   "outputs": [],
   "metadata": {}
  },
  {
   "cell_type": "code",
   "execution_count": 7,
   "source": [
    "# Aplicamos nuestra función para codificar los features:\n",
    "x_train = features_encoder(features_train,dim=N)\n",
    "x_test = features_encoder(features_test,dim=N)"
   ],
   "outputs": [],
   "metadata": {}
  },
  {
   "cell_type": "code",
   "execution_count": 8,
   "source": [
    "# No codificaremos los labels, pues minimizaremos con 'binary_crossentropy'\n",
    "# sin embargo pasaremos los valores al tipo array con valores 'float32'\n",
    "y_train = np.asarray(labels_train).astype('float32')\n",
    "y_test = np.asarray(labels_test).astype('float32')"
   ],
   "outputs": [],
   "metadata": {}
  },
  {
   "cell_type": "code",
   "execution_count": 9,
   "source": [
    "# Particionamos el conjunto de entrenamiento original \n",
    "# en nuevos subconjuntos de entrenamiento y validación:\n",
    "\n",
    "# Para provocar overfitting intencionalmentes generamos más datos de validación que de entrenamiento\n",
    "p_train=0.4  # porcentaje para datos de entrenamiento\n",
    "p_validation=0.6 # porcentaje  para datos de validación\n",
    "\n",
    "x_train_part, x_validation, y_train_part, y_validation = train_test_split (x_train, y_train, train_size=p_train, test_size=p_validation, random_state=42)\n",
    "\n",
    "print('Hay',len(x_train_part),'datos para entrenamiento y',len(x_validation),'datos para validación')"
   ],
   "outputs": [
    {
     "output_type": "stream",
     "name": "stdout",
     "text": [
      "Hay 10000 datos para entrenamiento y 15000 datos para validación\n"
     ]
    }
   ],
   "metadata": {}
  },
  {
   "cell_type": "code",
   "execution_count": 10,
   "source": [
    "# dimensión de los features para entrenar la red:\n",
    "dim_feature = x_train_part[0].shape\n",
    "dim_feature"
   ],
   "outputs": [
    {
     "output_type": "execute_result",
     "data": {
      "text/plain": [
       "(10000,)"
      ]
     },
     "metadata": {},
     "execution_count": 10
    }
   ],
   "metadata": {}
  },
  {
   "cell_type": "markdown",
   "source": [
    "# Pruebas con red neuronal 1: Red compleja (muchas conexiones)"
   ],
   "metadata": {}
  },
  {
   "cell_type": "code",
   "execution_count": 11,
   "source": [
    "# Creamos red neuronal 1:\n",
    "\n",
    "nn1 = 16 # <-- numero de neuronas para la capa 1\n",
    "nn2 = 16  # <-- numero de neuronas de la capa 2\n",
    "nn3 = 1  # <-- numero de neuronas de la capa 3\n",
    "\n",
    "# INICIALIZAMOS RED\n",
    "model1 = models.Sequential() # <-- se inicializa la red\n",
    "\n",
    "# Se van agregando las capas con sus parámetros:\n",
    "model1.add( layers.Dense(nn1 ,activation='relu', input_shape =dim_feature) )# <-- capa 1 (Recibe features)\n",
    "model1.add( layers.Dense(nn2, activation='relu') ) # <-- capa 2\n",
    "model1.add( layers.Dense(nn3, activation='sigmoid') )#<-- capa de salida (Arroja labels predichos)"
   ],
   "outputs": [],
   "metadata": {}
  },
  {
   "cell_type": "code",
   "execution_count": 12,
   "source": [
    "# visualzamos la arquitecura de la red:\n",
    "model1.summary()"
   ],
   "outputs": [
    {
     "output_type": "stream",
     "name": "stdout",
     "text": [
      "Model: \"sequential\"\n",
      "_________________________________________________________________\n",
      "Layer (type)                 Output Shape              Param #   \n",
      "=================================================================\n",
      "dense (Dense)                (None, 16)                160016    \n",
      "_________________________________________________________________\n",
      "dense_1 (Dense)              (None, 16)                272       \n",
      "_________________________________________________________________\n",
      "dense_2 (Dense)              (None, 1)                 17        \n",
      "=================================================================\n",
      "Total params: 160,305\n",
      "Trainable params: 160,305\n",
      "Non-trainable params: 0\n",
      "_________________________________________________________________\n"
     ]
    }
   ],
   "metadata": {}
  },
  {
   "cell_type": "code",
   "execution_count": 13,
   "source": [
    "# optimizador:\n",
    "nadam = optimizers.Nadam(learning_rate=0.001)\n",
    "\n",
    "# compilamos la red:\n",
    "model1.compile(\n",
    "    optimizer= nadam, # <--- Elegimos el método de optmimización,\n",
    "    loss='binary_crossentropy',# <-- función de costo recomendada para clasificación no binaria\n",
    "    metrics='accuracy'\n",
    "    )"
   ],
   "outputs": [],
   "metadata": {}
  },
  {
   "cell_type": "code",
   "execution_count": 14,
   "source": [
    "# Entrenemos el modelo:\n",
    "results1 = model1.fit(\n",
    "    x_train_part, \n",
    "    y_train_part,\n",
    "    epochs=20,\n",
    "    batch_size=512,\n",
    "    validation_data=(x_validation , y_validation) # <-- agregamos datos para validación\n",
    "    )"
   ],
   "outputs": [
    {
     "output_type": "stream",
     "name": "stdout",
     "text": [
      "Epoch 1/20\n",
      "20/20 [==============================] - 1s 42ms/step - loss: 0.6337 - accuracy: 0.7302 - val_loss: 0.5368 - val_accuracy: 0.8308\n",
      "Epoch 2/20\n",
      "20/20 [==============================] - 0s 17ms/step - loss: 0.4397 - accuracy: 0.8889 - val_loss: 0.3994 - val_accuracy: 0.8682\n",
      "Epoch 3/20\n",
      "20/20 [==============================] - 0s 17ms/step - loss: 0.3012 - accuracy: 0.9205 - val_loss: 0.3382 - val_accuracy: 0.8709\n",
      "Epoch 4/20\n",
      "20/20 [==============================] - 0s 18ms/step - loss: 0.2163 - accuracy: 0.9462 - val_loss: 0.3052 - val_accuracy: 0.8801\n",
      "Epoch 5/20\n",
      "20/20 [==============================] - 0s 18ms/step - loss: 0.1644 - accuracy: 0.9609 - val_loss: 0.2993 - val_accuracy: 0.8787\n",
      "Epoch 6/20\n",
      "20/20 [==============================] - 0s 18ms/step - loss: 0.1270 - accuracy: 0.9710 - val_loss: 0.3028 - val_accuracy: 0.8765\n",
      "Epoch 7/20\n",
      "20/20 [==============================] - 0s 19ms/step - loss: 0.1013 - accuracy: 0.9791 - val_loss: 0.3164 - val_accuracy: 0.8731\n",
      "Epoch 8/20\n",
      "20/20 [==============================] - 0s 17ms/step - loss: 0.0793 - accuracy: 0.9865 - val_loss: 0.3270 - val_accuracy: 0.8726\n",
      "Epoch 9/20\n",
      "20/20 [==============================] - 0s 18ms/step - loss: 0.0627 - accuracy: 0.9909 - val_loss: 0.3413 - val_accuracy: 0.8714\n",
      "Epoch 10/20\n",
      "20/20 [==============================] - 0s 19ms/step - loss: 0.0498 - accuracy: 0.9941 - val_loss: 0.3597 - val_accuracy: 0.8693\n",
      "Epoch 11/20\n",
      "20/20 [==============================] - 0s 18ms/step - loss: 0.0397 - accuracy: 0.9956 - val_loss: 0.3766 - val_accuracy: 0.8687\n",
      "Epoch 12/20\n",
      "20/20 [==============================] - 0s 19ms/step - loss: 0.0321 - accuracy: 0.9971 - val_loss: 0.3950 - val_accuracy: 0.8672\n",
      "Epoch 13/20\n",
      "20/20 [==============================] - 0s 17ms/step - loss: 0.0259 - accuracy: 0.9984 - val_loss: 0.4112 - val_accuracy: 0.8672\n",
      "Epoch 14/20\n",
      "20/20 [==============================] - 0s 17ms/step - loss: 0.0213 - accuracy: 0.9991 - val_loss: 0.4293 - val_accuracy: 0.8663\n",
      "Epoch 15/20\n",
      "20/20 [==============================] - 0s 18ms/step - loss: 0.0179 - accuracy: 0.9993 - val_loss: 0.4452 - val_accuracy: 0.8664\n",
      "Epoch 16/20\n",
      "20/20 [==============================] - 0s 18ms/step - loss: 0.0151 - accuracy: 0.9993 - val_loss: 0.4593 - val_accuracy: 0.8651\n",
      "Epoch 17/20\n",
      "20/20 [==============================] - 0s 19ms/step - loss: 0.0129 - accuracy: 0.9996 - val_loss: 0.4777 - val_accuracy: 0.8655\n",
      "Epoch 18/20\n",
      "20/20 [==============================] - 0s 18ms/step - loss: 0.0111 - accuracy: 0.9997 - val_loss: 0.4935 - val_accuracy: 0.8643\n",
      "Epoch 19/20\n",
      "20/20 [==============================] - 0s 20ms/step - loss: 0.0097 - accuracy: 0.9997 - val_loss: 0.5020 - val_accuracy: 0.8649\n",
      "Epoch 20/20\n",
      "20/20 [==============================] - 0s 17ms/step - loss: 0.0085 - accuracy: 0.9998 - val_loss: 0.5153 - val_accuracy: 0.8647\n"
     ]
    }
   ],
   "metadata": {}
  },
  {
   "cell_type": "code",
   "execution_count": 15,
   "source": [
    "# visualizamos resultados:\n",
    "\n",
    "history_dict = results1.history  # <-- extrae en 'accuracy' y 'loss' de cada 'epoch'\n",
    "# history_dict = {'loss':[...], 'accuracy':[...], 'val_loss':[...], 'val_accuracy':[...] }\n",
    "\n",
    "loss_values = history_dict['loss']# <-- valores del 'loss'\n",
    "val_loss_values = history_dict['val_loss'] #<-- valores del 'loss' (para datos de validacion)\n",
    "accuracy_values = history_dict['accuracy']# <-- valores del 'loss'\n",
    "val_accuracy_values = history_dict['val_accuracy'] #<-- valores del 'loss' (para datos de validacion)\n",
    "\n",
    "# numeramos 'epochs' contando desde 1:\n",
    "epoch = range(1,len(loss_values)+1)\n",
    "\n",
    "plt.figure()\n",
    "plt.plot(epoch, loss_values, '--', label='Loss with training data')\n",
    "plt.plot(epoch, val_loss_values, '--', label='Loss with validation data')\n",
    "plt.plot(epoch, accuracy_values, 'o', label='accuracy with training data')\n",
    "plt.plot(epoch, val_accuracy_values, 'o', label='accuracy with validation data')\n",
    "plt.legend()\n",
    "plt.title('Results RNA 1')\n",
    "plt.xlabel('epoch')\n",
    "plt.show()"
   ],
   "outputs": [
    {
     "output_type": "display_data",
     "data": {
      "text/plain": [
       "<Figure size 432x288 with 1 Axes>"
      ],
      "image/png": "[encoded data removed]"
     },
     "metadata": {
      "needs_background": "light"
     }
    }
   ],
   "metadata": {}
  },
  {
   "cell_type": "markdown",
   "source": [
    "### En la grafica anterior se puede observar overfitting:\n",
    "### 'Loss' pequeño con los datos de entrenamiento y 'Loss' grande con los datos de validación,\n",
    "### es decir: El modelo memorizó pero no aprendió"
   ],
   "metadata": {}
  },
  {
   "cell_type": "code",
   "execution_count": 16,
   "source": [
    "# medimos precisión del entrenamiento con los datos de prueba:\n",
    "model1.evaluate(x_test,y_test)"
   ],
   "outputs": [
    {
     "output_type": "stream",
     "name": "stdout",
     "text": [
      "782/782 [==============================] - 1s 889us/step - loss: 0.5245 - accuracy: 0.8581\n"
     ]
    },
    {
     "output_type": "execute_result",
     "data": {
      "text/plain": [
       "[0.5245325565338135, 0.8580800294876099]"
      ]
     },
     "metadata": {},
     "execution_count": 16
    }
   ],
   "metadata": {}
  },
  {
   "cell_type": "markdown",
   "source": [
    "# Pruebas con red neuronal 2: Red menos compleja (pocas conexiones)"
   ],
   "metadata": {}
  },
  {
   "cell_type": "code",
   "execution_count": 17,
   "source": [
    "# Creamos red neuronal 2:\n",
    "\n",
    "nn1 = 4 # <-- numero de neuronas para la capa 1\n",
    "nn2 = 4  # <-- numero de neuronas de la capa 2\n",
    "nn3 = 1  # <-- numero de neuronas de la capa 3\n",
    "\n",
    "\n",
    "# INICIALIZAMOS RED\n",
    "model2 = models.Sequential() # <-- se inicializa la red\n",
    "\n",
    "# Se van agregando las capas con sus parámetros:\n",
    "model2.add( layers.Dense(nn1 ,activation='relu', input_shape = dim_feature) )# <-- capa 1 (Recibe features)\n",
    "model2.add( layers.Dense(nn2, activation='relu') ) # <-- capa 2\n",
    "model2.add( layers.Dense(nn3, activation='sigmoid') )#<-- capa de salida (Arroja labels predichos)"
   ],
   "outputs": [],
   "metadata": {}
  },
  {
   "cell_type": "code",
   "execution_count": 18,
   "source": [
    "# visualzamos la arquitecura de la red:\n",
    "model2.summary()"
   ],
   "outputs": [
    {
     "output_type": "stream",
     "name": "stdout",
     "text": [
      "Model: \"sequential_1\"\n",
      "_________________________________________________________________\n",
      "Layer (type)                 Output Shape              Param #   \n",
      "=================================================================\n",
      "dense_3 (Dense)              (None, 4)                 40004     \n",
      "_________________________________________________________________\n",
      "dense_4 (Dense)              (None, 4)                 20        \n",
      "_________________________________________________________________\n",
      "dense_5 (Dense)              (None, 1)                 5         \n",
      "=================================================================\n",
      "Total params: 40,029\n",
      "Trainable params: 40,029\n",
      "Non-trainable params: 0\n",
      "_________________________________________________________________\n"
     ]
    }
   ],
   "metadata": {}
  },
  {
   "cell_type": "code",
   "execution_count": 19,
   "source": [
    "# optimizador:\n",
    "nadam = optimizers.Nadam(learning_rate=0.001)\n",
    "\n",
    "# compilamos la red:\n",
    "model2.compile(\n",
    "    optimizer= nadam, # <--- Elegimos el método de optmimización,\n",
    "    loss='binary_crossentropy',# <-- función de costo recomendada para clasificación no binaria\n",
    "    metrics='accuracy'\n",
    "    )"
   ],
   "outputs": [],
   "metadata": {}
  },
  {
   "cell_type": "code",
   "execution_count": 20,
   "source": [
    "# Entrenemos el modelo:\n",
    "results2 = model2.fit(\n",
    "    x_train_part, \n",
    "    y_train_part,\n",
    "    epochs=20,\n",
    "    batch_size=512,\n",
    "    validation_data=(x_validation , y_validation))"
   ],
   "outputs": [
    {
     "output_type": "stream",
     "name": "stdout",
     "text": [
      "Epoch 1/20\n",
      "20/20 [==============================] - 1s 45ms/step - loss: 0.6624 - accuracy: 0.6531 - val_loss: 0.5956 - val_accuracy: 0.7963\n",
      "Epoch 2/20\n",
      "20/20 [==============================] - 0s 19ms/step - loss: 0.5252 - accuracy: 0.8574 - val_loss: 0.4878 - val_accuracy: 0.8454\n",
      "Epoch 3/20\n",
      "20/20 [==============================] - 0s 18ms/step - loss: 0.4197 - accuracy: 0.8957 - val_loss: 0.4207 - val_accuracy: 0.8582\n",
      "Epoch 4/20\n",
      "20/20 [==============================] - 0s 17ms/step - loss: 0.3469 - accuracy: 0.9128 - val_loss: 0.3765 - val_accuracy: 0.8650\n",
      "Epoch 5/20\n",
      "20/20 [==============================] - 0s 16ms/step - loss: 0.2940 - accuracy: 0.9240 - val_loss: 0.3470 - val_accuracy: 0.8707\n",
      "Epoch 6/20\n",
      "20/20 [==============================] - 0s 16ms/step - loss: 0.2544 - accuracy: 0.9348 - val_loss: 0.3267 - val_accuracy: 0.8750\n",
      "Epoch 7/20\n",
      "20/20 [==============================] - 0s 18ms/step - loss: 0.2227 - accuracy: 0.9413 - val_loss: 0.3139 - val_accuracy: 0.8759\n",
      "Epoch 8/20\n",
      "20/20 [==============================] - 0s 17ms/step - loss: 0.1971 - accuracy: 0.9496 - val_loss: 0.3057 - val_accuracy: 0.8764\n",
      "Epoch 9/20\n",
      "20/20 [==============================] - 0s 17ms/step - loss: 0.1758 - accuracy: 0.9563 - val_loss: 0.3078 - val_accuracy: 0.8739\n",
      "Epoch 10/20\n",
      "20/20 [==============================] - 0s 18ms/step - loss: 0.1578 - accuracy: 0.9613 - val_loss: 0.2989 - val_accuracy: 0.8778\n",
      "Epoch 11/20\n",
      "20/20 [==============================] - 0s 17ms/step - loss: 0.1419 - accuracy: 0.9659 - val_loss: 0.2987 - val_accuracy: 0.8761\n",
      "Epoch 12/20\n",
      "20/20 [==============================] - 0s 17ms/step - loss: 0.1282 - accuracy: 0.9711 - val_loss: 0.2998 - val_accuracy: 0.8757\n",
      "Epoch 13/20\n",
      "20/20 [==============================] - 0s 17ms/step - loss: 0.1161 - accuracy: 0.9749 - val_loss: 0.3025 - val_accuracy: 0.8747\n",
      "Epoch 14/20\n",
      "20/20 [==============================] - 0s 16ms/step - loss: 0.1052 - accuracy: 0.9795 - val_loss: 0.3060 - val_accuracy: 0.8743\n",
      "Epoch 15/20\n",
      "20/20 [==============================] - 0s 17ms/step - loss: 0.0954 - accuracy: 0.9823 - val_loss: 0.3105 - val_accuracy: 0.8732\n",
      "Epoch 16/20\n",
      "20/20 [==============================] - 0s 17ms/step - loss: 0.0866 - accuracy: 0.9847 - val_loss: 0.3157 - val_accuracy: 0.8732\n",
      "Epoch 17/20\n",
      "20/20 [==============================] - 0s 17ms/step - loss: 0.0792 - accuracy: 0.9870 - val_loss: 0.3216 - val_accuracy: 0.8712\n",
      "Epoch 18/20\n",
      "20/20 [==============================] - 0s 17ms/step - loss: 0.0720 - accuracy: 0.9885 - val_loss: 0.3279 - val_accuracy: 0.8707\n",
      "Epoch 19/20\n",
      "20/20 [==============================] - 0s 17ms/step - loss: 0.0658 - accuracy: 0.9901 - val_loss: 0.3349 - val_accuracy: 0.8698\n",
      "Epoch 20/20\n",
      "20/20 [==============================] - 0s 16ms/step - loss: 0.0600 - accuracy: 0.9916 - val_loss: 0.3408 - val_accuracy: 0.8703\n"
     ]
    }
   ],
   "metadata": {}
  },
  {
   "cell_type": "code",
   "execution_count": 21,
   "source": [
    "# visualizamos resultados:\n",
    "\n",
    "# ========================== Grafico 1 =========================\n",
    "history_dict = results2.history  # <-- extrae en 'accuracy' y 'loss' de cada 'epoch'\n",
    "# history_dict = {'loss':[...], 'accuracy':[...], 'val_loss':[...], 'val_accuracy':[...] }\n",
    "\n",
    "loss_values = history_dict['loss']# <-- valores del 'loss'\n",
    "val_loss_values = history_dict['val_loss'] #<-- valores del 'loss' (para datos de validacion)\n",
    "accuracy_values = history_dict['accuracy']# <-- valores del 'loss'\n",
    "val_accuracy_values = history_dict['val_accuracy'] #<-- valores del 'loss' (para datos de validacion)\n",
    "\n",
    "# numeramos 'epochs' contando desde 1:\n",
    "epoch = range(1,len(loss_values)+1)\n",
    "\n",
    "plt.figure()\n",
    "plt.title('Results RNA 2')\n",
    "plt.plot(epoch, loss_values, '--', label='Loss with training data')\n",
    "plt.plot(epoch, val_loss_values, '--', label='Loss with validation data')\n",
    "plt.plot(epoch, accuracy_values, 'o', label='accuracy with training data')\n",
    "plt.plot(epoch, val_accuracy_values, 'o', label='accuracy with validation data')\n",
    "plt.legend()\n",
    "plt.xlabel('epoch')\n",
    "plt.show()"
   ],
   "outputs": [
    {
     "output_type": "display_data",
     "data": {
      "text/plain": [
       "<Figure size 432x288 with 1 Axes>"
      ],
      "image/png": "[encoded data removed]"
     },
     "metadata": {
      "needs_background": "light"
     }
    }
   ],
   "metadata": {}
  },
  {
   "cell_type": "markdown",
   "source": [
    "### En la grafica anterior se puede observar overfitting:\n",
    "### 'Loss' pequeño con los datos de entrenamiento y 'Loss' grande con los datos de validación"
   ],
   "metadata": {}
  },
  {
   "cell_type": "code",
   "execution_count": 22,
   "source": [
    "# medimos precisión del entrenamiento con los datos de prueba:\n",
    "model2.evaluate(x_test,y_test)"
   ],
   "outputs": [
    {
     "output_type": "stream",
     "name": "stdout",
     "text": [
      "782/782 [==============================] - 1s 851us/step - loss: 0.3505 - accuracy: 0.8682\n"
     ]
    },
    {
     "output_type": "execute_result",
     "data": {
      "text/plain": [
       "[0.3504507839679718, 0.8682000041007996]"
      ]
     },
     "metadata": {},
     "execution_count": 22
    }
   ],
   "metadata": {}
  },
  {
   "cell_type": "markdown",
   "source": [
    "# Pruebas con red neuronal 3: Red menos compleja (pocas conexiones) + Regularizadores L1-L2"
   ],
   "metadata": {}
  },
  {
   "cell_type": "code",
   "execution_count": 23,
   "source": [
    "# Creamos red neuronal 3:\n",
    "\n",
    "nn1 = 4 # <-- numero de neuronas para la capa 1\n",
    "nn2 = 4  # <-- numero de neuronas de la capa 2\n",
    "nn3 = 1  # <-- numero de neuronas de la capa 3\n",
    "\n",
    "alfa_l1 = 0.001 # <-- multiplo del regularizador l1\n",
    "alfa_l2 = 0.001 # <-- multiplo del regularizador l2\n",
    "\n",
    "\n",
    "# INICIALIZAMOS RED\n",
    "model3 = models.Sequential() # <-- se inicializa la red\n",
    "\n",
    "# Se van agregando las capas con sus parámetros:\n",
    "model3.add( layers.Dense(nn1 ,activation='relu', input_shape =dim_feature, kernel_regularizer=regularizers.l1_l2(alfa_l1, alfa_l2)) )# <-- capa 1 (Recibe features) y hemos agregado regularizador\n",
    "model3.add( layers.Dense(nn2, activation='relu', kernel_regularizer=regularizers.l1_l2(alfa_l1, alfa_l2)) ) # <-- capa 2 con regularizado\n",
    "model3.add( layers.Dense(nn3, activation='sigmoid') )#<-- capa de salida (Arroja labels predichos)"
   ],
   "outputs": [],
   "metadata": {}
  },
  {
   "cell_type": "code",
   "execution_count": 24,
   "source": [
    "# visualzamos la arquitecura de la red:\n",
    "model3.summary()"
   ],
   "outputs": [
    {
     "output_type": "stream",
     "name": "stdout",
     "text": [
      "Model: \"sequential_2\"\n",
      "_________________________________________________________________\n",
      "Layer (type)                 Output Shape              Param #   \n",
      "=================================================================\n",
      "dense_6 (Dense)              (None, 4)                 40004     \n",
      "_________________________________________________________________\n",
      "dense_7 (Dense)              (None, 4)                 20        \n",
      "_________________________________________________________________\n",
      "dense_8 (Dense)              (None, 1)                 5         \n",
      "=================================================================\n",
      "Total params: 40,029\n",
      "Trainable params: 40,029\n",
      "Non-trainable params: 0\n",
      "_________________________________________________________________\n"
     ]
    }
   ],
   "metadata": {}
  },
  {
   "cell_type": "code",
   "execution_count": 25,
   "source": [
    "# optimizador:\n",
    "nadam = optimizers.Nadam(learning_rate=0.001)\n",
    "\n",
    "# compilamos el modelo:\n",
    "model3.compile(\n",
    "    optimizer= nadam, # <--- Elegimos el método de optmimización,\n",
    "    loss='binary_crossentropy',# <-- función de costo recomendada para clasificación no binaria\n",
    "    metrics='accuracy'\n",
    "    )"
   ],
   "outputs": [],
   "metadata": {}
  },
  {
   "cell_type": "code",
   "execution_count": 26,
   "source": [
    "# Entrenemos el modelo:\n",
    "results3 = model3.fit(\n",
    "    x_train_part, \n",
    "    y_train_part,\n",
    "    epochs=20,\n",
    "    batch_size=512,\n",
    "    validation_data=(x_validation , y_validation))"
   ],
   "outputs": [
    {
     "output_type": "stream",
     "name": "stdout",
     "text": [
      "Epoch 1/20\n",
      "20/20 [==============================] - 2s 43ms/step - loss: 0.9697 - accuracy: 0.6001 - val_loss: 0.7456 - val_accuracy: 0.6194\n",
      "Epoch 2/20\n",
      "20/20 [==============================] - 0s 17ms/step - loss: 0.6702 - accuracy: 0.7338 - val_loss: 0.6342 - val_accuracy: 0.7653\n",
      "Epoch 3/20\n",
      "20/20 [==============================] - 0s 17ms/step - loss: 0.6113 - accuracy: 0.8028 - val_loss: 0.6022 - val_accuracy: 0.8012\n",
      "Epoch 4/20\n",
      "20/20 [==============================] - 0s 17ms/step - loss: 0.5779 - accuracy: 0.8401 - val_loss: 0.5748 - val_accuracy: 0.8361\n",
      "Epoch 5/20\n",
      "20/20 [==============================] - 0s 17ms/step - loss: 0.5465 - accuracy: 0.8570 - val_loss: 0.5471 - val_accuracy: 0.8462\n",
      "Epoch 6/20\n",
      "20/20 [==============================] - 0s 18ms/step - loss: 0.5148 - accuracy: 0.8729 - val_loss: 0.5204 - val_accuracy: 0.8545\n",
      "Epoch 7/20\n",
      "20/20 [==============================] - 0s 17ms/step - loss: 0.4851 - accuracy: 0.8804 - val_loss: 0.5158 - val_accuracy: 0.8519\n",
      "Epoch 8/20\n",
      "20/20 [==============================] - 0s 17ms/step - loss: 0.4620 - accuracy: 0.8882 - val_loss: 0.4826 - val_accuracy: 0.8601\n",
      "Epoch 9/20\n",
      "20/20 [==============================] - 0s 18ms/step - loss: 0.4436 - accuracy: 0.8923 - val_loss: 0.4724 - val_accuracy: 0.8606\n",
      "Epoch 10/20\n",
      "20/20 [==============================] - 0s 18ms/step - loss: 0.4289 - accuracy: 0.8949 - val_loss: 0.4666 - val_accuracy: 0.8615\n",
      "Epoch 11/20\n",
      "20/20 [==============================] - 0s 17ms/step - loss: 0.4194 - accuracy: 0.8965 - val_loss: 0.4687 - val_accuracy: 0.8576\n",
      "Epoch 12/20\n",
      "20/20 [==============================] - 0s 18ms/step - loss: 0.4113 - accuracy: 0.8970 - val_loss: 0.4548 - val_accuracy: 0.8634\n",
      "Epoch 13/20\n",
      "20/20 [==============================] - 0s 18ms/step - loss: 0.4030 - accuracy: 0.8999 - val_loss: 0.4509 - val_accuracy: 0.8643\n",
      "Epoch 14/20\n",
      "20/20 [==============================] - 0s 18ms/step - loss: 0.3970 - accuracy: 0.9034 - val_loss: 0.4540 - val_accuracy: 0.8634\n",
      "Epoch 15/20\n",
      "20/20 [==============================] - 0s 20ms/step - loss: 0.3909 - accuracy: 0.9035 - val_loss: 0.4483 - val_accuracy: 0.8647\n",
      "Epoch 16/20\n",
      "20/20 [==============================] - 0s 17ms/step - loss: 0.3870 - accuracy: 0.9067 - val_loss: 0.4470 - val_accuracy: 0.8645\n",
      "Epoch 17/20\n",
      "20/20 [==============================] - 0s 18ms/step - loss: 0.3810 - accuracy: 0.9083 - val_loss: 0.4539 - val_accuracy: 0.8619\n",
      "Epoch 18/20\n",
      "20/20 [==============================] - 0s 21ms/step - loss: 0.3780 - accuracy: 0.9089 - val_loss: 0.4474 - val_accuracy: 0.8645\n",
      "Epoch 19/20\n",
      "20/20 [==============================] - 0s 19ms/step - loss: 0.3745 - accuracy: 0.9098 - val_loss: 0.4469 - val_accuracy: 0.8641\n",
      "Epoch 20/20\n",
      "20/20 [==============================] - 0s 19ms/step - loss: 0.3743 - accuracy: 0.9097 - val_loss: 0.4467 - val_accuracy: 0.8647\n"
     ]
    }
   ],
   "metadata": {}
  },
  {
   "cell_type": "code",
   "execution_count": 27,
   "source": [
    "# visualizamos resultados:\n",
    "\n",
    "# ========================== Grafico 1 =========================\n",
    "history_dict = results3.history  # <-- extrae en 'accuracy' y 'loss' de cada 'epoch'\n",
    "# history_dict = {'loss':[...], 'accuracy':[...], 'val_loss':[...], 'val_accuracy':[...] }\n",
    "\n",
    "loss_values = history_dict['loss']# <-- valores del 'loss'\n",
    "val_loss_values = history_dict['val_loss'] #<-- valores del 'loss' (para datos de validacion)\n",
    "accuracy_values = history_dict['accuracy']# <-- valores del 'loss'\n",
    "val_accuracy_values = history_dict['val_accuracy'] #<-- valores del 'loss' (para datos de validacion)\n",
    "\n",
    "# numeramos 'epochs' contando desde 1:\n",
    "epoch = range(1,len(loss_values)+1)\n",
    "\n",
    "plt.figure()\n",
    "plt.title('Results RNA 3')\n",
    "plt.plot(epoch, loss_values, '--', label='Loss with training data')\n",
    "plt.plot(epoch, val_loss_values, '--', label='Loss with validation data')\n",
    "plt.plot(epoch, accuracy_values, 'o', label='accuracy with training data')\n",
    "plt.plot(epoch, val_accuracy_values, 'o', label='accuracy with validation data')\n",
    "plt.legend()\n",
    "plt.xlabel('epoch')\n",
    "plt.show()\n"
   ],
   "outputs": [
    {
     "output_type": "display_data",
     "data": {
      "text/plain": [
       "<Figure size 432x288 with 1 Axes>"
      ],
      "image/png": "[encoded data removed]"
     },
     "metadata": {
      "needs_background": "light"
     }
    }
   ],
   "metadata": {}
  },
  {
   "cell_type": "markdown",
   "source": [
    "### En la grafica anterior se puede observar que hemos reducido el overfitting:\n",
    "### 'Loss' pequeño con los datos de entrenamiento y 'Loss' pequeño con los datos de validación"
   ],
   "metadata": {}
  },
  {
   "cell_type": "code",
   "execution_count": 28,
   "source": [
    "# medimos precisión del entrenamiento con los datos de prueba:\n",
    "model3.evaluate(x_test,y_test)"
   ],
   "outputs": [
    {
     "output_type": "stream",
     "name": "stdout",
     "text": [
      "782/782 [==============================] - 1s 1ms/step - loss: 0.4453 - accuracy: 0.8672\n"
     ]
    },
    {
     "output_type": "execute_result",
     "data": {
      "text/plain": [
       "[0.4452962875366211, 0.8672000169754028]"
      ]
     },
     "metadata": {},
     "execution_count": 28
    }
   ],
   "metadata": {}
  },
  {
   "cell_type": "markdown",
   "source": [
    "# Pruebas con red neuronal 4: Red menos compleja (pocas conexiones) + Dropout"
   ],
   "metadata": {}
  },
  {
   "cell_type": "code",
   "execution_count": 29,
   "source": [
    "# Creamos red neuronal 4:\n",
    "\n",
    "nn1 = 4 # <-- numero de neuronas para la capa 1\n",
    "nn2 = 4  # <-- numero de neuronas de la capa 2\n",
    "nn3 = 1  # <-- numero de neuronas de la capa 3\n",
    "\n",
    "p_active = 0.5 #<-- porcentaje de neuronas a activar aleatoriamente en las capas con dropout\n",
    "\n",
    "#alfa_l1 = 0.001 # <-- multiplo del regularizador l1\n",
    "#alfa_l2 = 0.001 # <-- multiplo del regularizador l2\n",
    "\n",
    "# INICIALIZAMOS RED\n",
    "model4 = models.Sequential() # <-- se inicializa la red\n",
    "\n",
    "# Se van agregando las capas con sus parámetros:\n",
    "model4.add( layers.Dense(nn1 ,activation='relu', input_shape = dim_feature) )# <-- capa 1 (Recibe features)\n",
    "model4.add( layers.Dropout(p_active) ) # hacemos \"dropout\" a la capa anterior\n",
    "model4.add( layers.Dense(nn2, activation='relu') ) # capa 2\n",
    "model4.add( layers.Dropout(p_active) ) # hacemos \"dropout\" a la capa anterior\n",
    "model4.add( layers.Dense(nn3, activation='sigmoid')  ) # capa de salida (Arroja labels predichos)"
   ],
   "outputs": [],
   "metadata": {}
  },
  {
   "cell_type": "code",
   "execution_count": 30,
   "source": [
    "# visualzamos la arquitecura de la red:\n",
    "model4.summary()"
   ],
   "outputs": [
    {
     "output_type": "stream",
     "name": "stdout",
     "text": [
      "Model: \"sequential_3\"\n",
      "_________________________________________________________________\n",
      "Layer (type)                 Output Shape              Param #   \n",
      "=================================================================\n",
      "dense_9 (Dense)              (None, 4)                 40004     \n",
      "_________________________________________________________________\n",
      "dropout (Dropout)            (None, 4)                 0         \n",
      "_________________________________________________________________\n",
      "dense_10 (Dense)             (None, 4)                 20        \n",
      "_________________________________________________________________\n",
      "dropout_1 (Dropout)          (None, 4)                 0         \n",
      "_________________________________________________________________\n",
      "dense_11 (Dense)             (None, 1)                 5         \n",
      "=================================================================\n",
      "Total params: 40,029\n",
      "Trainable params: 40,029\n",
      "Non-trainable params: 0\n",
      "_________________________________________________________________\n"
     ]
    }
   ],
   "metadata": {}
  },
  {
   "cell_type": "code",
   "execution_count": 31,
   "source": [
    "# optimizador:\n",
    "nadam = optimizers.Nadam(learning_rate=0.001)\n",
    "\n",
    "model4.compile(\n",
    "    optimizer= nadam, # <--- Elegimos el método de optmimización,\n",
    "    loss='binary_crossentropy',# <-- función de costo recomendada para clasificación no binaria\n",
    "    metrics='accuracy'\n",
    "    )"
   ],
   "outputs": [],
   "metadata": {}
  },
  {
   "cell_type": "code",
   "execution_count": 32,
   "source": [
    "# Entrenemos el modelo:\n",
    "results4 = model4.fit(\n",
    "    x_train_part, \n",
    "    y_train_part,\n",
    "    epochs=20,\n",
    "    batch_size=512,\n",
    "    validation_data=(x_validation , y_validation))"
   ],
   "outputs": [
    {
     "output_type": "stream",
     "name": "stdout",
     "text": [
      "Epoch 1/20\n",
      "20/20 [==============================] - 2s 56ms/step - loss: 0.6859 - accuracy: 0.5394 - val_loss: 0.6696 - val_accuracy: 0.6693\n",
      "Epoch 2/20\n",
      "20/20 [==============================] - 0s 23ms/step - loss: 0.6678 - accuracy: 0.5977 - val_loss: 0.6503 - val_accuracy: 0.8014\n",
      "Epoch 3/20\n",
      "20/20 [==============================] - 0s 19ms/step - loss: 0.6500 - accuracy: 0.6245 - val_loss: 0.6207 - val_accuracy: 0.8430\n",
      "Epoch 4/20\n",
      "20/20 [==============================] - 0s 19ms/step - loss: 0.6242 - accuracy: 0.6488 - val_loss: 0.5881 - val_accuracy: 0.8573\n",
      "Epoch 5/20\n",
      "20/20 [==============================] - 0s 24ms/step - loss: 0.6071 - accuracy: 0.6547 - val_loss: 0.5584 - val_accuracy: 0.8644\n",
      "Epoch 6/20\n",
      "20/20 [==============================] - 0s 25ms/step - loss: 0.5863 - accuracy: 0.6869 - val_loss: 0.5318 - val_accuracy: 0.8701\n",
      "Epoch 7/20\n",
      "20/20 [==============================] - 0s 24ms/step - loss: 0.5620 - accuracy: 0.7185 - val_loss: 0.4982 - val_accuracy: 0.8737\n",
      "Epoch 8/20\n",
      "20/20 [==============================] - 0s 20ms/step - loss: 0.5393 - accuracy: 0.7311 - val_loss: 0.4739 - val_accuracy: 0.8747\n",
      "Epoch 9/20\n",
      "20/20 [==============================] - 0s 17ms/step - loss: 0.5203 - accuracy: 0.7399 - val_loss: 0.4420 - val_accuracy: 0.8761\n",
      "Epoch 10/20\n",
      "20/20 [==============================] - 0s 16ms/step - loss: 0.5061 - accuracy: 0.7475 - val_loss: 0.4224 - val_accuracy: 0.8756\n",
      "Epoch 11/20\n",
      "20/20 [==============================] - 0s 23ms/step - loss: 0.4878 - accuracy: 0.7599 - val_loss: 0.3975 - val_accuracy: 0.8796\n",
      "Epoch 12/20\n",
      "20/20 [==============================] - 0s 24ms/step - loss: 0.4684 - accuracy: 0.7713 - val_loss: 0.3893 - val_accuracy: 0.8765\n",
      "Epoch 13/20\n",
      "20/20 [==============================] - 0s 25ms/step - loss: 0.4581 - accuracy: 0.7703 - val_loss: 0.3693 - val_accuracy: 0.8789\n",
      "Epoch 14/20\n",
      "20/20 [==============================] - 0s 18ms/step - loss: 0.4456 - accuracy: 0.7781 - val_loss: 0.3600 - val_accuracy: 0.8785\n",
      "Epoch 15/20\n",
      "20/20 [==============================] - 0s 19ms/step - loss: 0.4307 - accuracy: 0.7881 - val_loss: 0.3456 - val_accuracy: 0.8775\n",
      "Epoch 16/20\n",
      "20/20 [==============================] - 0s 25ms/step - loss: 0.4164 - accuracy: 0.7912 - val_loss: 0.3316 - val_accuracy: 0.8787\n",
      "Epoch 17/20\n",
      "20/20 [==============================] - 0s 21ms/step - loss: 0.4093 - accuracy: 0.7892 - val_loss: 0.3249 - val_accuracy: 0.8788\n",
      "Epoch 18/20\n",
      "20/20 [==============================] - 0s 23ms/step - loss: 0.4003 - accuracy: 0.7910 - val_loss: 0.3234 - val_accuracy: 0.8773\n",
      "Epoch 19/20\n",
      "20/20 [==============================] - 1s 27ms/step - loss: 0.3931 - accuracy: 0.7937 - val_loss: 0.3171 - val_accuracy: 0.8765\n",
      "Epoch 20/20\n",
      "20/20 [==============================] - 0s 19ms/step - loss: 0.3849 - accuracy: 0.7962 - val_loss: 0.3146 - val_accuracy: 0.8767\n"
     ]
    }
   ],
   "metadata": {}
  },
  {
   "cell_type": "code",
   "execution_count": 33,
   "source": [
    "# visualizamos resultados:\n",
    "\n",
    "# ========================== Grafico 1 =========================\n",
    "history_dict = results4.history  # <-- extrae en 'accuracy' y 'loss' de cada 'epoch'\n",
    "# history_dict = {'loss':[...], 'accuracy':[...], 'val_loss':[...], 'val_accuracy':[...] }\n",
    "\n",
    "loss_values = history_dict['loss']# <-- valores del 'loss'\n",
    "val_loss_values = history_dict['val_loss'] #<-- valores del 'loss' (para datos de validacion)\n",
    "accuracy_values = history_dict['accuracy']# <-- valores del 'loss'\n",
    "val_accuracy_values = history_dict['val_accuracy'] #<-- valores del 'loss' (para datos de validacion)\n",
    "\n",
    "# numeramos 'epochs' contando desde 1:\n",
    "epoch = range(1,len(loss_values)+1)\n",
    "\n",
    "plt.figure()\n",
    "plt.title('Results RNA 4')\n",
    "plt.plot(epoch, loss_values, '--', label='Loss with training data')\n",
    "plt.plot(epoch, val_loss_values, '--', label='Loss with validation data')\n",
    "plt.plot(epoch, accuracy_values, 'o', label='accuracy with training data')\n",
    "plt.plot(epoch, val_accuracy_values, 'o', label='accuracy with validation data')\n",
    "plt.legend()\n",
    "plt.xlabel('epoch')\n",
    "plt.show()\n"
   ],
   "outputs": [
    {
     "output_type": "display_data",
     "data": {
      "text/plain": [
       "<Figure size 432x288 with 1 Axes>"
      ],
      "image/png": "[encoded data removed]"
     },
     "metadata": {
      "needs_background": "light"
     }
    }
   ],
   "metadata": {}
  },
  {
   "cell_type": "markdown",
   "source": [
    "### En la grafica anterior se puede observar que hemos eliminado completamente el overfitting:\n",
    "### 'Loss' pequeño con los datos de entrenamiento y 'Loss' pequeño con los datos de validación"
   ],
   "metadata": {}
  },
  {
   "cell_type": "code",
   "execution_count": 34,
   "source": [
    "# medimos precisión del entrenamiento con los datos de prueba:\n",
    "model4.evaluate(x_test,y_test)"
   ],
   "outputs": [
    {
     "output_type": "stream",
     "name": "stdout",
     "text": [
      "782/782 [==============================] - 1s 920us/step - loss: 0.3228 - accuracy: 0.8742\n"
     ]
    },
    {
     "output_type": "execute_result",
     "data": {
      "text/plain": [
       "[0.32283467054367065, 0.874239981174469]"
      ]
     },
     "metadata": {},
     "execution_count": 34
    }
   ],
   "metadata": {}
  },
  {
   "cell_type": "markdown",
   "source": [
    "## Hacemos predicciones con el ultimo modelo entrenado:"
   ],
   "metadata": {}
  },
  {
   "cell_type": "code",
   "execution_count": 35,
   "source": [
    "# Predecimos las etiquetas de todos los features de prueba: \n",
    "y_predict = model4.predict(x_test)\n",
    "\n",
    "y_predict.shape"
   ],
   "outputs": [
    {
     "output_type": "execute_result",
     "data": {
      "text/plain": [
       "(25000, 1)"
      ]
     },
     "metadata": {},
     "execution_count": 35
    }
   ],
   "metadata": {}
  },
  {
   "cell_type": "code",
   "execution_count": 56,
   "source": [
    "# Predecimos una etiqueta en particular:\n",
    "\n",
    "i = 719 #<--- indice del valor a predecir (< 25000)\n",
    "\n",
    "label_obs  = labels_test[i] #np.argmax(y_test[i])\n",
    "label_aprx = np.round( y_predict[i] )#np.argmax(y_predict[i])\n",
    "\n",
    "print('    Etiqueta real: ', label_obs )\n",
    "print('Etiqueta predicha: ', label_aprx )"
   ],
   "outputs": [
    {
     "output_type": "stream",
     "name": "stdout",
     "text": [
      "    Etiqueta real:  0\n",
      "Etiqueta predicha:  [0.]\n"
     ]
    }
   ],
   "metadata": {}
  },
  {
   "cell_type": "code",
   "execution_count": null,
   "source": [],
   "outputs": [],
   "metadata": {}
  }
 ],
 "metadata": {
  "orig_nbformat": 4,
  "language_info": {
   "name": "python",
   "version": "3.8.10",
   "mimetype": "text/x-python",
   "codemirror_mode": {
    "name": "ipython",
    "version": 3
   },
   "pygments_lexer": "ipython3",
   "nbconvert_exporter": "python",
   "file_extension": ".py"
  },
  "kernelspec": {
   "name": "python3",
   "display_name": "Python 3.8.10 64-bit"
  },
  "interpreter": {
   "hash": "31f2aee4e71d21fbe5cf8b01ff0e069b9275f58929596ceb00d14d90e3e16cd6"
  }
 },
 "nbformat": 4,
 "nbformat_minor": 2
}